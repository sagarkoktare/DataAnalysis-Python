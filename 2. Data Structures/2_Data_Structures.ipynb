{
  "nbformat": 4,
  "nbformat_minor": 0,
  "metadata": {
    "colab": {
      "name": "2.Data Structures.ipynb",
      "provenance": [],
      "collapsed_sections": []
    },
    "kernelspec": {
      "name": "python3",
      "display_name": "Python 3"
    },
    "language_info": {
      "name": "python"
    }
  },
  "cells": [
    {
      "cell_type": "markdown",
      "metadata": {
        "id": "41JcrG_8q4kp"
      },
      "source": [
        "#1. Numbers"
      ]
    },
    {
      "cell_type": "code",
      "metadata": {
        "colab": {
          "base_uri": "https://localhost:8080/"
        },
        "id": "D81zp1AMkKWD",
        "outputId": "ad510d4d-3032-46cc-b7ae-cf1601f806aa"
      },
      "source": [
        "#python Numbers\n",
        "a = 5\n",
        "print(type(a))\n",
        "a = 30.25\n",
        "print(type(a))\n",
        "a = 10 + 2j\n",
        "print(type(a))"
      ],
      "execution_count": null,
      "outputs": [
        {
          "output_type": "stream",
          "text": [
            "<class 'int'>\n",
            "<class 'float'>\n",
            "<class 'complex'>\n"
          ],
          "name": "stdout"
        }
      ]
    },
    {
      "cell_type": "code",
      "metadata": {
        "colab": {
          "base_uri": "https://localhost:8080/"
        },
        "id": "ZMMUhKFdnBwH",
        "outputId": "44a843e0-1c4a-4566-9242-375dc75ac61c"
      },
      "source": [
        "#typecasting\n",
        "print(int(-2.0))\n",
        "print(float(5))"
      ],
      "execution_count": null,
      "outputs": [
        {
          "output_type": "stream",
          "text": [
            "-2\n",
            "5.0\n"
          ],
          "name": "stdout"
        }
      ]
    },
    {
      "cell_type": "code",
      "metadata": {
        "colab": {
          "base_uri": "https://localhost:8080/"
        },
        "id": "Zc8TL12BoKMI",
        "outputId": "dcb383e8-8edb-4193-cf77-177415868e18"
      },
      "source": [
        "print(chr(65))\n",
        "print(chr(97))"
      ],
      "execution_count": null,
      "outputs": [
        {
          "output_type": "stream",
          "text": [
            "A\n",
            "a\n"
          ],
          "name": "stdout"
        }
      ]
    },
    {
      "cell_type": "code",
      "metadata": {
        "id": "t_x9nXCWnOcp"
      },
      "source": [
        "import math"
      ],
      "execution_count": null,
      "outputs": []
    },
    {
      "cell_type": "code",
      "metadata": {
        "colab": {
          "base_uri": "https://localhost:8080/"
        },
        "id": "XNo36RsEngP-",
        "outputId": "9d842caa-cd5e-442e-ec40-d604e917a464"
      },
      "source": [
        "print(math.sqrt(2))\n",
        "print(math.floor(-10.7))\n",
        "print(math.ceil(-10.7))\n",
        "print(math.pow(10,7))\n",
        "print(math.pi)\n",
        "print(round(math.pi,2))\n",
        "print(math.factorial(5))"
      ],
      "execution_count": null,
      "outputs": [
        {
          "output_type": "stream",
          "text": [
            "1.4142135623730951\n",
            "-11\n",
            "-10\n",
            "10000000.0\n",
            "3.141592653589793\n",
            "3.14\n",
            "120\n"
          ],
          "name": "stdout"
        }
      ]
    },
    {
      "cell_type": "code",
      "metadata": {
        "colab": {
          "base_uri": "https://localhost:8080/"
        },
        "id": "sDkC6KFtnmn8",
        "outputId": "cd92d4f8-c2ad-47ad-9723-f647c1f421cc"
      },
      "source": [
        "import random as rn\n",
        "rn.seed(20)\n",
        "print(rn.random())\n",
        "print(rn.randrange(50,100))\n",
        "print(rn.uniform(50.5,100))\n",
        "x = [1,2,3,4,5,6]\n",
        "print(rn.choice(x))"
      ],
      "execution_count": null,
      "outputs": [
        {
          "output_type": "stream",
          "text": [
            "0.9056396761745207\n",
            "93\n",
            "89.44062367411112\n",
            "2\n"
          ],
          "name": "stdout"
        }
      ]
    },
    {
      "cell_type": "markdown",
      "metadata": {
        "id": "2V9oJiAFtEb0"
      },
      "source": [
        "#2. Strings\n",
        "- Immutable - couldn't modify\n"
      ]
    },
    {
      "cell_type": "code",
      "metadata": {
        "colab": {
          "base_uri": "https://localhost:8080/"
        },
        "id": "sWZznH3QpjUG",
        "outputId": "e6416e0f-a9f0-43ed-8b0c-2f45d5901916"
      },
      "source": [
        "String = 'Hello World'\n",
        "print(String)\n",
        "\n",
        "Str2 = \"\"\"This \n",
        "is string 2\n",
        "in python\"\"\"\n",
        "print(Str2)\n",
        "\n",
        "Str3 = \"This is string 3.\\n Hello World \"\n",
        "print(Str3)"
      ],
      "execution_count": null,
      "outputs": [
        {
          "output_type": "stream",
          "text": [
            "Hello World\n",
            "This \n",
            "is string 2\n",
            "in python\n",
            "This is string 3.\n",
            " Hello World \n"
          ],
          "name": "stdout"
        }
      ]
    },
    {
      "cell_type": "code",
      "metadata": {
        "colab": {
          "base_uri": "https://localhost:8080/"
        },
        "id": "dUGywiUQt4qt",
        "outputId": "5e751dbb-c79e-40b9-fa54-f4c5d632dd66"
      },
      "source": [
        "Str2 = \"Python is a programming language\"\n",
        "print(Str2[0])\n",
        "print(Str2[-2])\n",
        "#inclusive:exclusive\n",
        "print(Str2[2:4])\n",
        "print(Str2[:4])\n",
        "print(Str2[4:])\n",
        "print(len(Str2))"
      ],
      "execution_count": null,
      "outputs": [
        {
          "output_type": "stream",
          "text": [
            "P\n",
            "g\n",
            "th\n",
            "Pyth\n",
            "on is a programming language\n",
            "32\n"
          ],
          "name": "stdout"
        }
      ]
    },
    {
      "cell_type": "code",
      "metadata": {
        "colab": {
          "base_uri": "https://localhost:8080/",
          "height": 166
        },
        "id": "L-RcW4OBuDOZ",
        "outputId": "b0761421-d196-4057-8b32-7a5a8d29b649"
      },
      "source": [
        "#strings are immutable\n",
        "Str2[0]=\"B\""
      ],
      "execution_count": null,
      "outputs": [
        {
          "output_type": "error",
          "ename": "TypeError",
          "evalue": "ignored",
          "traceback": [
            "\u001b[0;31m---------------------------------------------------------------------------\u001b[0m",
            "\u001b[0;31mTypeError\u001b[0m                                 Traceback (most recent call last)",
            "\u001b[0;32m<ipython-input-45-34d5057e52a2>\u001b[0m in \u001b[0;36m<module>\u001b[0;34m()\u001b[0m\n\u001b[0;32m----> 1\u001b[0;31m \u001b[0mStr2\u001b[0m\u001b[0;34m[\u001b[0m\u001b[0;36m0\u001b[0m\u001b[0;34m]\u001b[0m\u001b[0;34m=\u001b[0m\u001b[0;34m\"B\"\u001b[0m\u001b[0;34m\u001b[0m\u001b[0;34m\u001b[0m\u001b[0m\n\u001b[0m",
            "\u001b[0;31mTypeError\u001b[0m: 'str' object does not support item assignment"
          ]
        }
      ]
    },
    {
      "cell_type": "code",
      "metadata": {
        "colab": {
          "base_uri": "https://localhost:8080/",
          "height": 35
        },
        "id": "MWSYUpvnvT_N",
        "outputId": "653ef007-1cfe-4354-a4d9-deec1ec2efa5"
      },
      "source": [
        "Str1 = 'Sagar'\n",
        "Str1.replace('a','p')"
      ],
      "execution_count": null,
      "outputs": [
        {
          "output_type": "execute_result",
          "data": {
            "application/vnd.google.colaboratory.intrinsic+json": {
              "type": "string"
            },
            "text/plain": [
              "'Spgpr'"
            ]
          },
          "metadata": {
            "tags": []
          },
          "execution_count": 46
        }
      ]
    },
    {
      "cell_type": "markdown",
      "metadata": {
        "id": "dG2tHpwnyoIP"
      },
      "source": [
        "#3. Lists\n",
        "- Denoted using square brackets\n",
        "- Allows mixed data types\n",
        "- Tepetatitve elements, allows duplicate values\n",
        "- Preserves the order\n",
        "- Lists are mutable\n"
      ]
    },
    {
      "cell_type": "code",
      "metadata": {
        "id": "O9BlsurpxK-E",
        "colab": {
          "base_uri": "https://localhost:8080/"
        },
        "outputId": "8740b747-9515-42cd-a208-be8f9b3bf325"
      },
      "source": [
        "list1 = [1,3,4,5,6]\n",
        "print(list1[2])\n",
        "list2 = [1,3,'Python',5,6]\n",
        "print(type(list2))"
      ],
      "execution_count": null,
      "outputs": [
        {
          "output_type": "stream",
          "text": [
            "4\n",
            "<class 'list'>\n"
          ],
          "name": "stdout"
        }
      ]
    },
    {
      "cell_type": "code",
      "metadata": {
        "colab": {
          "base_uri": "https://localhost:8080/"
        },
        "id": "9zrkM6G09Vzw",
        "outputId": "b07148c0-4232-4289-8102-2ddc29291595"
      },
      "source": [
        "#Use of slicing Operator\n",
        "print(list1[4])"
      ],
      "execution_count": null,
      "outputs": [
        {
          "output_type": "stream",
          "text": [
            "6\n"
          ],
          "name": "stdout"
        }
      ]
    },
    {
      "cell_type": "code",
      "metadata": {
        "colab": {
          "base_uri": "https://localhost:8080/"
        },
        "id": "7dUYe2JV9wCx",
        "outputId": "4636b857-1385-4bf5-8448-e11d5c1bf683"
      },
      "source": [
        "print(list1[1:3])\n",
        "print(list1[2:])"
      ],
      "execution_count": null,
      "outputs": [
        {
          "output_type": "stream",
          "text": [
            "[3, 4]\n",
            "[4, 5, 6]\n"
          ],
          "name": "stdout"
        }
      ]
    },
    {
      "cell_type": "code",
      "metadata": {
        "colab": {
          "base_uri": "https://localhost:8080/"
        },
        "id": "o_raaeoK9-Pa",
        "outputId": "fecae502-ea41-4714-90a8-1d4a5ceac0d7"
      },
      "source": [
        "x = list(range(1,101,2))\n",
        "print(x)"
      ],
      "execution_count": null,
      "outputs": [
        {
          "output_type": "stream",
          "text": [
            "[1, 3, 5, 7, 9, 11, 13, 15, 17, 19, 21, 23, 25, 27, 29, 31, 33, 35, 37, 39, 41, 43, 45, 47, 49, 51, 53, 55, 57, 59, 61, 63, 65, 67, 69, 71, 73, 75, 77, 79, 81, 83, 85, 87, 89, 91, 93, 95, 97, 99]\n"
          ],
          "name": "stdout"
        }
      ]
    },
    {
      "cell_type": "code",
      "metadata": {
        "colab": {
          "base_uri": "https://localhost:8080/"
        },
        "id": "yY1TlHiS-e8Z",
        "outputId": "17adb8f5-9886-4f30-b9d0-a49293693686"
      },
      "source": [
        "#Nested lists\n",
        "b = ['spam',2,3,5.6,[10,6,'sagar']]\n",
        "print(b[4])\n",
        "print(b[4][2][2:5])"
      ],
      "execution_count": null,
      "outputs": [
        {
          "output_type": "stream",
          "text": [
            "[10, 6, 'sagar']\n",
            "gar\n"
          ],
          "name": "stdout"
        }
      ]
    },
    {
      "cell_type": "code",
      "metadata": {
        "colab": {
          "base_uri": "https://localhost:8080/"
        },
        "id": "ot0854dS_ca7",
        "outputId": "cfe1d3c6-d431-4bc3-9837-9af625b48316"
      },
      "source": [
        "#lists are mutable\n",
        "b[4][1] = 's'\n",
        "print(b)"
      ],
      "execution_count": null,
      "outputs": [
        {
          "output_type": "stream",
          "text": [
            "['spam', 2, 3, 5.6, [10, 's', 'sagar']]\n"
          ],
          "name": "stdout"
        }
      ]
    },
    {
      "cell_type": "code",
      "metadata": {
        "id": "4AGrLq0W_3VX"
      },
      "source": [
        "# Appending elements in a list\n",
        "list1 = [1,3,4,5,6]\n",
        "list2 = [1,3,4,5,6,67,8,9,0,10,11,12,13,14,15]\n",
        "list1.append(list2)"
      ],
      "execution_count": null,
      "outputs": []
    },
    {
      "cell_type": "code",
      "metadata": {
        "colab": {
          "base_uri": "https://localhost:8080/"
        },
        "id": "N4CKR-wqAj5v",
        "outputId": "e25a65bf-a8e5-4ff1-cdb6-9cc64de3a777"
      },
      "source": [
        "list1"
      ],
      "execution_count": null,
      "outputs": [
        {
          "output_type": "execute_result",
          "data": {
            "text/plain": [
              "[1, 3, 4, 5, 6, [1, 3, 4, 5, 6, 67, 8, 9, 0, 10, 11, 12, 13, 14, 15]]"
            ]
          },
          "metadata": {
            "tags": []
          },
          "execution_count": 23
        }
      ]
    },
    {
      "cell_type": "code",
      "metadata": {
        "colab": {
          "base_uri": "https://localhost:8080/"
        },
        "id": "4y8HYG1iAk_t",
        "outputId": "1d62a7d4-08c8-4f52-b82a-ea8d0091048c"
      },
      "source": [
        "list2.append('Sagar')\n",
        "list2"
      ],
      "execution_count": null,
      "outputs": [
        {
          "output_type": "execute_result",
          "data": {
            "text/plain": [
              "[1, 3, 4, 5, 6, 67, 8, 9, 0, 10, 11, 12, 13, 14, 15, 'Sagar', 'Sagar']"
            ]
          },
          "metadata": {
            "tags": []
          },
          "execution_count": 25
        }
      ]
    },
    {
      "cell_type": "code",
      "metadata": {
        "colab": {
          "base_uri": "https://localhost:8080/"
        },
        "id": "Ocp29erRAq0o",
        "outputId": "dee3f31a-1677-4e20-c930-e97e579fa7af"
      },
      "source": [
        "# Extending elements in a list\n",
        "list3 = [1,2,3,4,5,6]\n",
        "list4 = [3,4,5,6,7,8,9]\n",
        "list3.extend(list4)\n",
        "print(list3)"
      ],
      "execution_count": null,
      "outputs": [
        {
          "output_type": "stream",
          "text": [
            "[1, 2, 3, 4, 5, 6, 3, 4, 5, 6, 7, 8, 9]\n"
          ],
          "name": "stdout"
        }
      ]
    },
    {
      "cell_type": "code",
      "metadata": {
        "colab": {
          "base_uri": "https://localhost:8080/"
        },
        "id": "PDRDlKj3A7rV",
        "outputId": "229b44c8-743c-457f-88cc-96ac29eb2e79"
      },
      "source": [
        "#inserting \n",
        "list3.insert(2,4.5)\n",
        "print(list3)"
      ],
      "execution_count": null,
      "outputs": [
        {
          "output_type": "stream",
          "text": [
            "[1, 2, 4.5, 3, 4, 5, 6, 3, 4, 5, 6, 7, 8, 9]\n"
          ],
          "name": "stdout"
        }
      ]
    },
    {
      "cell_type": "code",
      "metadata": {
        "colab": {
          "base_uri": "https://localhost:8080/"
        },
        "id": "QOY1pddwA_kW",
        "outputId": "03fb06f7-ad83-4d81-fbcd-0958376685b5"
      },
      "source": [
        "list3.insert(2,list2)\n",
        "print(list3)"
      ],
      "execution_count": null,
      "outputs": [
        {
          "output_type": "stream",
          "text": [
            "[1, 2, [1, 3, 4, 5, 6, 67, 8, 9, 0, 10, 11, 12, 13, 14, 15, 'Sagar', 'Sagar'], [1, 3, 4, 5, 6, 67, 8, 9, 0, 10, 11, 12, 13, 14, 15, 'Sagar', 'Sagar'], 4.5, 3, 4, 5, 6, 3, 4, 5, 6, 7, 8, 9]\n"
          ],
          "name": "stdout"
        }
      ]
    },
    {
      "cell_type": "code",
      "metadata": {
        "colab": {
          "base_uri": "https://localhost:8080/"
        },
        "id": "5Mh29aoLCZLU",
        "outputId": "50673b46-56ed-41fe-c850-ffefcca4cee1"
      },
      "source": [
        "#Removing an element\n",
        "list2.remove('Sagar')\n",
        "print(list2)"
      ],
      "execution_count": null,
      "outputs": [
        {
          "output_type": "stream",
          "text": [
            "[1, 3, 4, 5, 6, 67, 8, 9, 0, 10, 11, 12, 13, 14, 15]\n"
          ],
          "name": "stdout"
        }
      ]
    },
    {
      "cell_type": "code",
      "metadata": {
        "colab": {
          "base_uri": "https://localhost:8080/"
        },
        "id": "Waga7GyqChXj",
        "outputId": "fb8b76bb-441c-4135-91e5-0eaba82462a8"
      },
      "source": [
        "#Deleting an index\n",
        "del list2[2]\n",
        "print(list2)"
      ],
      "execution_count": null,
      "outputs": [
        {
          "output_type": "stream",
          "text": [
            "[1, 3, 8, 9, 0, 10, 11, 12, 13, 14, 15]\n"
          ],
          "name": "stdout"
        }
      ]
    },
    {
      "cell_type": "code",
      "metadata": {
        "colab": {
          "base_uri": "https://localhost:8080/"
        },
        "id": "Y-KbF3TZDFsG",
        "outputId": "60b72b9c-d82d-4186-9a3a-c79c2d285c0a"
      },
      "source": [
        "list1 = [1,2,3,4,5]\n",
        "list2 = []\n",
        "for l in list1:\n",
        "  num = l * 5\n",
        "  list2.append(num)\n",
        "\n",
        "print(list2)"
      ],
      "execution_count": null,
      "outputs": [
        {
          "output_type": "stream",
          "text": [
            "[5, 10, 15, 20, 25]\n"
          ],
          "name": "stdout"
        }
      ]
    },
    {
      "cell_type": "markdown",
      "metadata": {
        "id": "ClbK0xMnF_QV"
      },
      "source": [
        "#Tuples\n",
        "- () parantheses\n",
        "- Mixed Data types\n",
        "- repetatitve elements\n",
        "- perserves order\n",
        "- immutable\n"
      ]
    },
    {
      "cell_type": "code",
      "metadata": {
        "id": "7LoM9BB0FV1e",
        "colab": {
          "base_uri": "https://localhost:8080/"
        },
        "outputId": "37e9b000-34ab-4813-d97d-9869492934b4"
      },
      "source": [
        "tuple = (5,2,'agar',2+3j)\n",
        "print(type(tuple))\n",
        "print(tuple[1])"
      ],
      "execution_count": null,
      "outputs": [
        {
          "output_type": "stream",
          "text": [
            "<class 'tuple'>\n",
            "2\n"
          ],
          "name": "stdout"
        }
      ]
    },
    {
      "cell_type": "code",
      "metadata": {
        "colab": {
          "base_uri": "https://localhost:8080/"
        },
        "id": "OUACizgbJlEs",
        "outputId": "140ac0ce-74ba-41ca-f120-f0c4c790dec2"
      },
      "source": [
        "n_tuple = (2,3,[2,3,4],(22,32,42),4,5)\n",
        "print(n_tuple)\n",
        "print(n_tuple[2][1])\n",
        "n_tuple[2][1]=0"
      ],
      "execution_count": null,
      "outputs": [
        {
          "output_type": "stream",
          "text": [
            "(2, 3, [2, 3, 4], (22, 32, 42), 4, 5)\n",
            "3\n"
          ],
          "name": "stdout"
        }
      ]
    },
    {
      "cell_type": "code",
      "metadata": {
        "colab": {
          "base_uri": "https://localhost:8080/"
        },
        "id": "eplhAxN7J7z9",
        "outputId": "39b7b05e-da8a-4176-d6b2-e34afeca0c35"
      },
      "source": [
        "print(n_tuple[2][1])"
      ],
      "execution_count": null,
      "outputs": [
        {
          "output_type": "stream",
          "text": [
            "0\n"
          ],
          "name": "stdout"
        }
      ]
    },
    {
      "cell_type": "code",
      "metadata": {
        "id": "4OSpPrP1KkYU"
      },
      "source": [
        "del n_tuple"
      ],
      "execution_count": null,
      "outputs": []
    },
    {
      "cell_type": "markdown",
      "metadata": {
        "id": "QDP-u-oFLMAH"
      },
      "source": [
        "#Sets\n",
        "- {} parantheses\n",
        "- allows only unique elements\n",
        "- mixed data types allowed\n",
        "- **doesn't preserves order**\n",
        "- hence also doesn't support  indexing\n",
        "- accessing part is not allowed\n"
      ]
    },
    {
      "cell_type": "code",
      "metadata": {
        "colab": {
          "base_uri": "https://localhost:8080/"
        },
        "id": "40e79pWvKonM",
        "outputId": "3623fc13-c6bc-4bd5-c738-dc65c894a789"
      },
      "source": [
        "set1 = {1,2,3,'sagar',3,4,5}\n",
        "set1"
      ],
      "execution_count": null,
      "outputs": [
        {
          "output_type": "execute_result",
          "data": {
            "text/plain": [
              "{1, 2, 3, 4, 5, 'sagar'}"
            ]
          },
          "metadata": {
            "tags": []
          },
          "execution_count": 14
        }
      ]
    },
    {
      "cell_type": "code",
      "metadata": {
        "colab": {
          "base_uri": "https://localhost:8080/"
        },
        "id": "1KmxPg6HPATf",
        "outputId": "2a8750cc-0c69-4788-b9fe-d37e43597013"
      },
      "source": [
        "set2 = {1,2,3,(12,3,34),23,34,65}\n",
        "set2"
      ],
      "execution_count": null,
      "outputs": [
        {
          "output_type": "execute_result",
          "data": {
            "text/plain": [
              "{(12, 3, 34), 1, 2, 23, 3, 34, 65}"
            ]
          },
          "metadata": {
            "tags": []
          },
          "execution_count": 17
        }
      ]
    },
    {
      "cell_type": "code",
      "metadata": {
        "colab": {
          "base_uri": "https://localhost:8080/",
          "height": 166
        },
        "id": "39jGgFX7PKyS",
        "outputId": "9b0f234b-9bb7-4c06-f9bb-07a4ec88eb2d"
      },
      "source": [
        "#indexing is not allowed in Sets\n",
        "set1[0]"
      ],
      "execution_count": null,
      "outputs": [
        {
          "output_type": "error",
          "ename": "TypeError",
          "evalue": "ignored",
          "traceback": [
            "\u001b[0;31m---------------------------------------------------------------------------\u001b[0m",
            "\u001b[0;31mTypeError\u001b[0m                                 Traceback (most recent call last)",
            "\u001b[0;32m<ipython-input-18-c38563f1af7a>\u001b[0m in \u001b[0;36m<module>\u001b[0;34m()\u001b[0m\n\u001b[0;32m----> 1\u001b[0;31m \u001b[0mset1\u001b[0m\u001b[0;34m[\u001b[0m\u001b[0;36m0\u001b[0m\u001b[0;34m]\u001b[0m\u001b[0;34m\u001b[0m\u001b[0;34m\u001b[0m\u001b[0m\n\u001b[0m",
            "\u001b[0;31mTypeError\u001b[0m: 'set' object is not subscriptable"
          ]
        }
      ]
    },
    {
      "cell_type": "code",
      "metadata": {
        "colab": {
          "base_uri": "https://localhost:8080/"
        },
        "id": "gLZKUcDBPWpt",
        "outputId": "5d375326-8bc7-4fdf-edbd-9fba81e0b42b"
      },
      "source": [
        "#adding elements\n",
        "set1 = {23,34}\n",
        "set1.add(35)\n",
        "print(set1)"
      ],
      "execution_count": null,
      "outputs": [
        {
          "output_type": "stream",
          "text": [
            "{34, 35, 23}\n"
          ],
          "name": "stdout"
        }
      ]
    },
    {
      "cell_type": "code",
      "metadata": {
        "colab": {
          "base_uri": "https://localhost:8080/"
        },
        "id": "W5TwzH5pP1fn",
        "outputId": "197d0f3c-4e79-4c8b-ab83-771041f512b9"
      },
      "source": [
        "set1.update([1,2,3,4,5])\n",
        "print(set1)"
      ],
      "execution_count": null,
      "outputs": [
        {
          "output_type": "stream",
          "text": [
            "{1, 2, 34, 35, 3, 4, 5, 23}\n"
          ],
          "name": "stdout"
        }
      ]
    },
    {
      "cell_type": "code",
      "metadata": {
        "colab": {
          "base_uri": "https://localhost:8080/"
        },
        "id": "BBCFioJIQKXe",
        "outputId": "018ff507-a026-4d70-d737-4567676f5d4c"
      },
      "source": [
        "#deleting elements\n",
        "set1.remove(4)\n",
        "print(set1)"
      ],
      "execution_count": null,
      "outputs": [
        {
          "output_type": "stream",
          "text": [
            "{1, 2, 34, 35, 5, 23}\n"
          ],
          "name": "stdout"
        }
      ]
    },
    {
      "cell_type": "code",
      "metadata": {
        "colab": {
          "base_uri": "https://localhost:8080/"
        },
        "id": "9TJuybPuQXvH",
        "outputId": "1d3a1d80-8fc8-4490-eec9-d95d1776ff97"
      },
      "source": [
        "set1.intersection(set2)"
      ],
      "execution_count": null,
      "outputs": [
        {
          "output_type": "execute_result",
          "data": {
            "text/plain": [
              "{1, 2, 23, 34}"
            ]
          },
          "metadata": {
            "tags": []
          },
          "execution_count": 27
        }
      ]
    },
    {
      "cell_type": "code",
      "metadata": {
        "id": "K7Rp_T1pRcfq"
      },
      "source": [
        "set1.intersection_update(set2)"
      ],
      "execution_count": null,
      "outputs": []
    },
    {
      "cell_type": "code",
      "metadata": {
        "colab": {
          "base_uri": "https://localhost:8080/"
        },
        "id": "quVHpAS-Rexa",
        "outputId": "8b5ef4aa-fc30-4413-8f7f-830bf7795e56"
      },
      "source": [
        "set1.add(100)\n",
        "set1"
      ],
      "execution_count": null,
      "outputs": [
        {
          "output_type": "execute_result",
          "data": {
            "text/plain": [
              "{1, 2, 23, 34, 100}"
            ]
          },
          "metadata": {
            "tags": []
          },
          "execution_count": 29
        }
      ]
    },
    {
      "cell_type": "code",
      "metadata": {
        "colab": {
          "base_uri": "https://localhost:8080/"
        },
        "id": "yQG5Pd7GRhY6",
        "outputId": "7f94301f-49f7-4592-e4fc-6c700cab0889"
      },
      "source": [
        "# Remove multiple elements in sets\n",
        "a =[1,34]\n",
        "for i in a:\n",
        "  set1.remove(i)\n",
        "\n",
        "print(set1)"
      ],
      "execution_count": null,
      "outputs": [
        {
          "output_type": "stream",
          "text": [
            "{100, 23}\n"
          ],
          "name": "stdout"
        }
      ]
    },
    {
      "cell_type": "code",
      "metadata": {
        "colab": {
          "base_uri": "https://localhost:8080/"
        },
        "id": "ZTlgP4ePRl3n",
        "outputId": "a48d4841-b856-4c72-fe5f-f4f95ccd4f7d"
      },
      "source": [
        "print(set1)\n",
        "print(set2)\n",
        "print(set1 | set2)\n",
        "print()\n",
        "print(set1.difference(set2))\n",
        "print(set2.difference(set1))"
      ],
      "execution_count": null,
      "outputs": [
        {
          "output_type": "stream",
          "text": [
            "{100, 23}\n",
            "{1, 2, 3, 34, 65, (12, 3, 34), 23}\n",
            "{1, 2, 3, 100, 34, 65, (12, 3, 34), 23}\n",
            "\n",
            "{100}\n",
            "{65, 1, 2, 3, 34, (12, 3, 34)}\n"
          ],
          "name": "stdout"
        }
      ]
    },
    {
      "cell_type": "markdown",
      "metadata": {
        "id": "QZSWyTjgR4Hm"
      },
      "source": [
        "# Dictionaries\n",
        " - {key:value,key:value}\n",
        " - mixed datatype elements\n",
        " - does not support indexing\n",
        " - accessing is done using keys\n",
        " - preserves the order\n",
        " - keys should be unique\n",
        " - values could be repetitive\n",
        " - mutable"
      ]
    },
    {
      "cell_type": "code",
      "metadata": {
        "colab": {
          "base_uri": "https://localhost:8080/"
        },
        "id": "qaIB8iIfRvYU",
        "outputId": "16eea9b7-0865-42ff-9d16-9d4068c115ee"
      },
      "source": [
        "dic1 = {'1':'A','2':'B'}\n",
        "dic1"
      ],
      "execution_count": null,
      "outputs": [
        {
          "output_type": "execute_result",
          "data": {
            "text/plain": [
              "{'1': 'A', '2': 'B'}"
            ]
          },
          "metadata": {
            "tags": []
          },
          "execution_count": 34
        }
      ]
    },
    {
      "cell_type": "code",
      "metadata": {
        "colab": {
          "base_uri": "https://localhost:8080/",
          "height": 143
        },
        "id": "JB07IMibR8Y3",
        "outputId": "f74b5da5-3b63-4428-dd33-b0c0cad93983"
      },
      "source": [
        "import pandas as pd\n",
        "dic2 = {'Name':['A','B','C'],'Index':[1,2,3],'marks':[10,20,30]}\n",
        "dic2\n",
        "#dic2['Index']=4\n",
        "df = pd.DataFrame(dic2)\n",
        "df"
      ],
      "execution_count": null,
      "outputs": [
        {
          "output_type": "execute_result",
          "data": {
            "text/html": [
              "<div>\n",
              "<style scoped>\n",
              "    .dataframe tbody tr th:only-of-type {\n",
              "        vertical-align: middle;\n",
              "    }\n",
              "\n",
              "    .dataframe tbody tr th {\n",
              "        vertical-align: top;\n",
              "    }\n",
              "\n",
              "    .dataframe thead th {\n",
              "        text-align: right;\n",
              "    }\n",
              "</style>\n",
              "<table border=\"1\" class=\"dataframe\">\n",
              "  <thead>\n",
              "    <tr style=\"text-align: right;\">\n",
              "      <th></th>\n",
              "      <th>Name</th>\n",
              "      <th>Index</th>\n",
              "      <th>marks</th>\n",
              "    </tr>\n",
              "  </thead>\n",
              "  <tbody>\n",
              "    <tr>\n",
              "      <th>0</th>\n",
              "      <td>A</td>\n",
              "      <td>1</td>\n",
              "      <td>10</td>\n",
              "    </tr>\n",
              "    <tr>\n",
              "      <th>1</th>\n",
              "      <td>B</td>\n",
              "      <td>2</td>\n",
              "      <td>20</td>\n",
              "    </tr>\n",
              "    <tr>\n",
              "      <th>2</th>\n",
              "      <td>C</td>\n",
              "      <td>3</td>\n",
              "      <td>30</td>\n",
              "    </tr>\n",
              "  </tbody>\n",
              "</table>\n",
              "</div>"
            ],
            "text/plain": [
              "  Name  Index  marks\n",
              "0    A      1     10\n",
              "1    B      2     20\n",
              "2    C      3     30"
            ]
          },
          "metadata": {
            "tags": []
          },
          "execution_count": 37
        }
      ]
    },
    {
      "cell_type": "code",
      "metadata": {
        "id": "5DJfIhckSBrm"
      },
      "source": [
        "dic3 = {'Name':['S','H','D'],'Age':[20,30,40]}\n",
        "#dic3['Age'] = 50\n",
        "#dic3\n",
        "dic3['Adresss'] = ['A','B','C']"
      ],
      "execution_count": null,
      "outputs": []
    },
    {
      "cell_type": "code",
      "metadata": {
        "colab": {
          "base_uri": "https://localhost:8080/"
        },
        "id": "hJ5aA0NTSP2K",
        "outputId": "2bbec8b7-cb9b-4809-cfe2-d54643016289"
      },
      "source": [
        "dic3"
      ],
      "execution_count": null,
      "outputs": [
        {
          "output_type": "execute_result",
          "data": {
            "text/plain": [
              "{'Adresss': ['A', 'B', 'C'], 'Age': [20, 30, 40], 'Name': ['S', 'H', 'D']}"
            ]
          },
          "metadata": {
            "tags": []
          },
          "execution_count": 39
        }
      ]
    },
    {
      "cell_type": "code",
      "metadata": {
        "colab": {
          "base_uri": "https://localhost:8080/"
        },
        "id": "1GRyowDVSTaJ",
        "outputId": "5c8fa321-e6d5-4bef-924e-6a05550e827e"
      },
      "source": [
        "if dic2['Name'] == dic3['Name']:\n",
        "  print(True)\n",
        "else:\n",
        "  print(False)\n",
        "\n"
      ],
      "execution_count": null,
      "outputs": [
        {
          "output_type": "stream",
          "text": [
            "False\n"
          ],
          "name": "stdout"
        }
      ]
    },
    {
      "cell_type": "code",
      "metadata": {
        "colab": {
          "base_uri": "https://localhost:8080/"
        },
        "id": "KkJu0cmeSWHm",
        "outputId": "a6577bd5-27f9-4404-ed91-fcf246d0934d"
      },
      "source": [
        "dic2.values()"
      ],
      "execution_count": null,
      "outputs": [
        {
          "output_type": "execute_result",
          "data": {
            "text/plain": [
              "dict_values([['A', 'B', 'C'], [1, 2, 3], [10, 20, 30]])"
            ]
          },
          "metadata": {
            "tags": []
          },
          "execution_count": 41
        }
      ]
    },
    {
      "cell_type": "code",
      "metadata": {
        "colab": {
          "base_uri": "https://localhost:8080/"
        },
        "id": "ZdRB6V9KSZdO",
        "outputId": "25dbe5e7-efcc-4028-91a4-51f8b85437d5"
      },
      "source": [
        "dic2.keys()"
      ],
      "execution_count": null,
      "outputs": [
        {
          "output_type": "execute_result",
          "data": {
            "text/plain": [
              "dict_keys(['Name', 'Index', 'marks'])"
            ]
          },
          "metadata": {
            "tags": []
          },
          "execution_count": 42
        }
      ]
    },
    {
      "cell_type": "code",
      "metadata": {
        "colab": {
          "base_uri": "https://localhost:8080/"
        },
        "id": "dDqr1HNASdQp",
        "outputId": "5bdbb400-cd83-4ef5-d188-b7f268e0d211"
      },
      "source": [
        "a = [1,2,3,4,5,6,7,8]\n",
        "b = (6,7,8,9,10,11)\n",
        "c = list(zip(a,b))\n",
        "print(c)"
      ],
      "execution_count": null,
      "outputs": [
        {
          "output_type": "stream",
          "text": [
            "[(1, 6), (2, 7), (3, 8), (4, 9), (5, 10), (6, 11)]\n"
          ],
          "name": "stdout"
        }
      ]
    },
    {
      "cell_type": "code",
      "metadata": {
        "colab": {
          "base_uri": "https://localhost:8080/"
        },
        "id": "WNCl8S89SfxF",
        "outputId": "b0fb8641-daab-4a56-dfa2-c5e29d33dee1"
      },
      "source": [
        "a = [1,2,3,4]\n",
        "b= (5,6,7,8)\n",
        "c = dict(zip(a,b))\n",
        "print(c)"
      ],
      "execution_count": null,
      "outputs": [
        {
          "output_type": "stream",
          "text": [
            "{1: 5, 2: 6, 3: 7, 4: 8}\n"
          ],
          "name": "stdout"
        }
      ]
    },
    {
      "cell_type": "code",
      "metadata": {
        "id": "2PZc61lSSnWD"
      },
      "source": [
        ""
      ],
      "execution_count": null,
      "outputs": []
    }
  ]
}