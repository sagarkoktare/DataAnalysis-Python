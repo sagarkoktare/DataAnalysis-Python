{
 "cells": [
  {
   "cell_type": "markdown",
   "id": "e21d1ec5",
   "metadata": {},
   "source": [
    "# Sets "
   ]
  },
  {
   "cell_type": "markdown",
   "id": "3a0d3626",
   "metadata": {},
   "source": [
    "#### Only unique elements \n",
    "#### Mixed data types\n",
    "#### doesn't preserve order\n",
    "#### doesn't support indexing\n",
    "#### As indexing is not allowed, accessing part is not allowed"
   ]
  },
  {
   "cell_type": "code",
   "execution_count": 1,
   "id": "c107cfb3",
   "metadata": {},
   "outputs": [],
   "source": [
    "set1 = {1,2,3,3.5,4.5,4,4.5}"
   ]
  },
  {
   "cell_type": "code",
   "execution_count": 2,
   "id": "2b5915e3",
   "metadata": {},
   "outputs": [
    {
     "data": {
      "text/plain": [
       "{1, 2, 3, 3.5, 4, 4.5}"
      ]
     },
     "execution_count": 2,
     "metadata": {},
     "output_type": "execute_result"
    }
   ],
   "source": [
    "set1"
   ]
  },
  {
   "cell_type": "code",
   "execution_count": 3,
   "id": "b49735df",
   "metadata": {},
   "outputs": [],
   "source": [
    "set2 = {3,4,4.5,4,5,6,6.2}"
   ]
  },
  {
   "cell_type": "code",
   "execution_count": 4,
   "id": "0518bab7",
   "metadata": {},
   "outputs": [
    {
     "data": {
      "text/plain": [
       "{3, 4, 4.5, 5, 6, 6.2}"
      ]
     },
     "execution_count": 4,
     "metadata": {},
     "output_type": "execute_result"
    }
   ],
   "source": [
    "set2"
   ]
  },
  {
   "cell_type": "code",
   "execution_count": 5,
   "id": "7b2c005d",
   "metadata": {},
   "outputs": [],
   "source": [
    "set1.add(100)"
   ]
  },
  {
   "cell_type": "code",
   "execution_count": 6,
   "id": "bebd51e5",
   "metadata": {},
   "outputs": [
    {
     "data": {
      "text/plain": [
       "{1, 2, 3, 3.5, 4, 4.5, 100}"
      ]
     },
     "execution_count": 6,
     "metadata": {},
     "output_type": "execute_result"
    }
   ],
   "source": [
    "set1"
   ]
  },
  {
   "cell_type": "code",
   "execution_count": 7,
   "id": "f77bb3ee",
   "metadata": {},
   "outputs": [
    {
     "data": {
      "text/plain": [
       "{1, 2, 3, 3.5, 4, 4.5, 5, 6, 6.2, 100}"
      ]
     },
     "execution_count": 7,
     "metadata": {},
     "output_type": "execute_result"
    }
   ],
   "source": [
    "set1.union(set2) #Union"
   ]
  },
  {
   "cell_type": "code",
   "execution_count": 8,
   "id": "92516345",
   "metadata": {},
   "outputs": [
    {
     "data": {
      "text/plain": [
       "{3, 4, 4.5}"
      ]
     },
     "execution_count": 8,
     "metadata": {},
     "output_type": "execute_result"
    }
   ],
   "source": [
    "set1.intersection(set2) #Intersection"
   ]
  },
  {
   "cell_type": "code",
   "execution_count": 11,
   "id": "3d326ef6",
   "metadata": {},
   "outputs": [],
   "source": [
    "set1.update([101,102,103]) #Adding an element"
   ]
  },
  {
   "cell_type": "code",
   "execution_count": 12,
   "id": "65a24e99",
   "metadata": {},
   "outputs": [
    {
     "data": {
      "text/plain": [
       "{1, 2, 3, 3.5, 4, 4.5, 100, 101, 102, 103}"
      ]
     },
     "execution_count": 12,
     "metadata": {},
     "output_type": "execute_result"
    }
   ],
   "source": [
    "set1"
   ]
  },
  {
   "cell_type": "code",
   "execution_count": 13,
   "id": "268aa7cd",
   "metadata": {},
   "outputs": [],
   "source": [
    "set1.remove(103) #Removing an element"
   ]
  },
  {
   "cell_type": "code",
   "execution_count": 14,
   "id": "29eb90ff",
   "metadata": {},
   "outputs": [
    {
     "data": {
      "text/plain": [
       "{1, 2, 3, 3.5, 4, 4.5, 100, 101, 102}"
      ]
     },
     "execution_count": 14,
     "metadata": {},
     "output_type": "execute_result"
    }
   ],
   "source": [
    "set1"
   ]
  },
  {
   "cell_type": "code",
   "execution_count": 15,
   "id": "8ccc6a7e",
   "metadata": {},
   "outputs": [
    {
     "data": {
      "text/plain": [
       "{1, 2, 3.5, 100, 101, 102}"
      ]
     },
     "execution_count": 15,
     "metadata": {},
     "output_type": "execute_result"
    }
   ],
   "source": [
    "set1.difference(set2) #Returns elements which are not present in set2"
   ]
  },
  {
   "cell_type": "code",
   "execution_count": 19,
   "id": "e2d60370",
   "metadata": {},
   "outputs": [
    {
     "data": {
      "text/plain": [
       "{5, 6, 6.2}"
      ]
     },
     "execution_count": 19,
     "metadata": {},
     "output_type": "execute_result"
    }
   ],
   "source": [
    "set2.difference(set1) #Returns elements which are not present in set1"
   ]
  },
  {
   "cell_type": "code",
   "execution_count": null,
   "id": "7a2c93fe",
   "metadata": {},
   "outputs": [],
   "source": []
  }
 ],
 "metadata": {
  "kernelspec": {
   "display_name": "Python 3 (ipykernel)",
   "language": "python",
   "name": "python3"
  },
  "language_info": {
   "codemirror_mode": {
    "name": "ipython",
    "version": 3
   },
   "file_extension": ".py",
   "mimetype": "text/x-python",
   "name": "python",
   "nbconvert_exporter": "python",
   "pygments_lexer": "ipython3",
   "version": "3.9.13"
  }
 },
 "nbformat": 4,
 "nbformat_minor": 5
}
