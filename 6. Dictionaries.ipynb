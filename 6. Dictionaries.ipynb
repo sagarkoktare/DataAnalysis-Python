{
 "cells": [
  {
   "cell_type": "markdown",
   "id": "a0375fc2",
   "metadata": {},
   "source": [
    "# Dictionaries"
   ]
  },
  {
   "cell_type": "markdown",
   "id": "be5a2ab6",
   "metadata": {},
   "source": [
    "### are declared using {}\n",
    "### dictionary will have set of key: value pairs {key:value,key:value}\n",
    "### mixed data type elements \n",
    "### doesn't support indexing, have to access data using keys\n",
    "### preserves order\n",
    "### Keys should be unique, values could be repetatitve\n",
    "### Are mutable\n"
   ]
  },
  {
   "cell_type": "code",
   "execution_count": 1,
   "id": "cbc79c82",
   "metadata": {},
   "outputs": [],
   "source": [
    "dict1 = {1:'A',2 :'B'}"
   ]
  },
  {
   "cell_type": "code",
   "execution_count": 2,
   "id": "ca848394",
   "metadata": {},
   "outputs": [
    {
     "data": {
      "text/plain": [
       "'A'"
      ]
     },
     "execution_count": 2,
     "metadata": {},
     "output_type": "execute_result"
    }
   ],
   "source": [
    "dict1[1]"
   ]
  },
  {
   "cell_type": "code",
   "execution_count": 4,
   "id": "fed3fc0d",
   "metadata": {},
   "outputs": [],
   "source": [
    "dict2 = {'Name':['A','B','C'],'id':[1001,1002,1003],'marks':[67,89,95]}"
   ]
  },
  {
   "cell_type": "code",
   "execution_count": 5,
   "id": "778c4379",
   "metadata": {},
   "outputs": [
    {
     "data": {
      "text/plain": [
       "{'Name': ['A', 'B', 'C'], 'id': [1001, 1002, 1003], 'marks': [67, 89, 95]}"
      ]
     },
     "execution_count": 5,
     "metadata": {},
     "output_type": "execute_result"
    }
   ],
   "source": [
    "dict2"
   ]
  },
  {
   "cell_type": "code",
   "execution_count": 6,
   "id": "8a4709e0",
   "metadata": {},
   "outputs": [
    {
     "data": {
      "text/plain": [
       "[1001, 1002, 1003]"
      ]
     },
     "execution_count": 6,
     "metadata": {},
     "output_type": "execute_result"
    }
   ],
   "source": [
    "dict2['id']"
   ]
  },
  {
   "cell_type": "code",
   "execution_count": 7,
   "id": "bbeacb7f",
   "metadata": {},
   "outputs": [],
   "source": [
    "dict1[1]='C'"
   ]
  },
  {
   "cell_type": "code",
   "execution_count": 8,
   "id": "0c358449",
   "metadata": {},
   "outputs": [
    {
     "data": {
      "text/plain": [
       "{1: 'C', 2: 'B'}"
      ]
     },
     "execution_count": 8,
     "metadata": {},
     "output_type": "execute_result"
    }
   ],
   "source": [
    "dict1"
   ]
  },
  {
   "cell_type": "code",
   "execution_count": 9,
   "id": "405897c9",
   "metadata": {},
   "outputs": [
    {
     "data": {
      "text/plain": [
       "dict_keys([1, 2])"
      ]
     },
     "execution_count": 9,
     "metadata": {},
     "output_type": "execute_result"
    }
   ],
   "source": [
    "dict1.keys()"
   ]
  },
  {
   "cell_type": "code",
   "execution_count": 10,
   "id": "a5624105",
   "metadata": {},
   "outputs": [
    {
     "data": {
      "text/plain": [
       "dict_keys(['Name', 'id', 'marks'])"
      ]
     },
     "execution_count": 10,
     "metadata": {},
     "output_type": "execute_result"
    }
   ],
   "source": [
    "dict2.keys()"
   ]
  },
  {
   "cell_type": "code",
   "execution_count": 11,
   "id": "357bb8e3",
   "metadata": {},
   "outputs": [
    {
     "data": {
      "text/plain": [
       "dict_values([['A', 'B', 'C'], [1001, 1002, 1003], [67, 89, 95]])"
      ]
     },
     "execution_count": 11,
     "metadata": {},
     "output_type": "execute_result"
    }
   ],
   "source": [
    "dict2.values()"
   ]
  },
  {
   "cell_type": "code",
   "execution_count": 12,
   "id": "65a8bbfb",
   "metadata": {},
   "outputs": [
    {
     "name": "stdout",
     "output_type": "stream",
     "text": [
      "[(1, 101), (2, 102), (3, 103), (4, 201), (5, 202)]\n"
     ]
    }
   ],
   "source": [
    "a = [1,2,3,4,5,6]\n",
    "b = (101,102,103,201,202)\n",
    "c = list(zip(a,b))\n",
    "print(c)"
   ]
  },
  {
   "cell_type": "code",
   "execution_count": null,
   "id": "e6e32c4d",
   "metadata": {},
   "outputs": [],
   "source": []
  }
 ],
 "metadata": {
  "kernelspec": {
   "display_name": "Python 3 (ipykernel)",
   "language": "python",
   "name": "python3"
  },
  "language_info": {
   "codemirror_mode": {
    "name": "ipython",
    "version": 3
   },
   "file_extension": ".py",
   "mimetype": "text/x-python",
   "name": "python",
   "nbconvert_exporter": "python",
   "pygments_lexer": "ipython3",
   "version": "3.9.13"
  }
 },
 "nbformat": 4,
 "nbformat_minor": 5
}
