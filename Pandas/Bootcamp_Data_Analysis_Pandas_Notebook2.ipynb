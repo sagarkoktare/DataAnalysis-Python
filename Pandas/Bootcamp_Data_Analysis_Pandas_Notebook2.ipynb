{
  "nbformat": 4,
  "nbformat_minor": 0,
  "metadata": {
    "colab": {
      "name": "Data Analysis - Pandas - Notebook2",
      "provenance": [],
      "collapsed_sections": []
    },
    "kernelspec": {
      "name": "python3",
      "display_name": "Python 3"
    }
  },
  "cells": [
    {
      "cell_type": "markdown",
      "metadata": {
        "id": "s8XaMN4DFRx_"
      },
      "source": [
        "<center>\n",
        "<img src='https://drive.google.com/uc?id=1AcU8-pfRLIe_v1J430lxrEVqp2cqxA2J' height='180px' />\n",
        "</center>"
      ]
    },
    {
      "cell_type": "markdown",
      "metadata": {
        "id": "7EZ8hJVo-1xw"
      },
      "source": [
        "`apply()` , `map()` & `applymap()` **Summary** functions\n",
        "--\n",
        "\n",
        "> **apply()** is used to apply a function along an axis of the DataFrame or on values of Series.\n",
        "\n",
        "> **applymap()** is used to apply a function to a DataFrame elementwise.\n",
        "\n",
        "> **map()** is used to substitute each value in a Series with another value.\n",
        "\n",
        "<img src='https://drive.google.com/uc?id=14LQs_AcDq9PoOFdVLcY3Hilm0_Hf5KJt' height='180px' />\n",
        "\n",
        "Lets understand all the above functions with simple dummy data."
      ]
    },
    {
      "cell_type": "markdown",
      "metadata": {
        "id": "OY57UkCnGBds"
      },
      "source": [
        "**How to use apply()?**\n",
        "\n",
        "The Pandas apply() is used to apply a function along an axis of the DataFrame or on values of Series.\n",
        "\n",
        "Let’s begin with a simple example, to sum each row and save the result to a new column “D”"
      ]
    },
    {
      "cell_type": "code",
      "metadata": {
        "id": "9h1dQrVdGHCS",
        "colab": {
          "base_uri": "https://localhost:8080/",
          "height": 175
        },
        "outputId": "4fa4b511-cb85-4b3b-c427-c82701070299"
      },
      "source": [
        "## Creating a dummy dataframe\n",
        "import pandas as pd\n",
        "df = pd.DataFrame({ 'A': [1,2,3,4], \n",
        "                    'B': [10,20,30,40],\n",
        "                    'C': [20,40,60,80]\n",
        "                  }, \n",
        "                  index=['Row 1', 'Row 2', 'Row 3', 'Row 4'])\n",
        "\n",
        "df"
      ],
      "execution_count": null,
      "outputs": [
        {
          "output_type": "execute_result",
          "data": {
            "text/html": [
              "<div>\n",
              "<style scoped>\n",
              "    .dataframe tbody tr th:only-of-type {\n",
              "        vertical-align: middle;\n",
              "    }\n",
              "\n",
              "    .dataframe tbody tr th {\n",
              "        vertical-align: top;\n",
              "    }\n",
              "\n",
              "    .dataframe thead th {\n",
              "        text-align: right;\n",
              "    }\n",
              "</style>\n",
              "<table border=\"1\" class=\"dataframe\">\n",
              "  <thead>\n",
              "    <tr style=\"text-align: right;\">\n",
              "      <th></th>\n",
              "      <th>A</th>\n",
              "      <th>B</th>\n",
              "      <th>C</th>\n",
              "    </tr>\n",
              "  </thead>\n",
              "  <tbody>\n",
              "    <tr>\n",
              "      <th>Row 1</th>\n",
              "      <td>1</td>\n",
              "      <td>10</td>\n",
              "      <td>20</td>\n",
              "    </tr>\n",
              "    <tr>\n",
              "      <th>Row 2</th>\n",
              "      <td>2</td>\n",
              "      <td>20</td>\n",
              "      <td>40</td>\n",
              "    </tr>\n",
              "    <tr>\n",
              "      <th>Row 3</th>\n",
              "      <td>3</td>\n",
              "      <td>30</td>\n",
              "      <td>60</td>\n",
              "    </tr>\n",
              "    <tr>\n",
              "      <th>Row 4</th>\n",
              "      <td>4</td>\n",
              "      <td>40</td>\n",
              "      <td>80</td>\n",
              "    </tr>\n",
              "  </tbody>\n",
              "</table>\n",
              "</div>"
            ],
            "text/plain": [
              "       A   B   C\n",
              "Row 1  1  10  20\n",
              "Row 2  2  20  40\n",
              "Row 3  3  30  60\n",
              "Row 4  4  40  80"
            ]
          },
          "metadata": {
            "tags": []
          },
          "execution_count": 2
        }
      ]
    },
    {
      "cell_type": "code",
      "metadata": {
        "id": "hJq7V6BAGXsC",
        "colab": {
          "base_uri": "https://localhost:8080/",
          "height": 175
        },
        "outputId": "d663da4e-58c2-439a-cd1b-11f2e80dd393"
      },
      "source": [
        "# Let's call our sum function as \"custom_sum\" as \"sum\" is a built-in function\n",
        "def custom_sum(row):\n",
        "    return row.sum()\n",
        "\n",
        "df['D'] = df.apply(custom_sum, axis=1)\n",
        "\n",
        "df\n",
        "\n",
        "## Remember :  axis=1 => row wise,  axis=0 is default => column wise"
      ],
      "execution_count": null,
      "outputs": [
        {
          "output_type": "execute_result",
          "data": {
            "text/html": [
              "<div>\n",
              "<style scoped>\n",
              "    .dataframe tbody tr th:only-of-type {\n",
              "        vertical-align: middle;\n",
              "    }\n",
              "\n",
              "    .dataframe tbody tr th {\n",
              "        vertical-align: top;\n",
              "    }\n",
              "\n",
              "    .dataframe thead th {\n",
              "        text-align: right;\n",
              "    }\n",
              "</style>\n",
              "<table border=\"1\" class=\"dataframe\">\n",
              "  <thead>\n",
              "    <tr style=\"text-align: right;\">\n",
              "      <th></th>\n",
              "      <th>A</th>\n",
              "      <th>B</th>\n",
              "      <th>C</th>\n",
              "      <th>D</th>\n",
              "    </tr>\n",
              "  </thead>\n",
              "  <tbody>\n",
              "    <tr>\n",
              "      <th>Row 1</th>\n",
              "      <td>1</td>\n",
              "      <td>10</td>\n",
              "      <td>20</td>\n",
              "      <td>31</td>\n",
              "    </tr>\n",
              "    <tr>\n",
              "      <th>Row 2</th>\n",
              "      <td>2</td>\n",
              "      <td>20</td>\n",
              "      <td>40</td>\n",
              "      <td>62</td>\n",
              "    </tr>\n",
              "    <tr>\n",
              "      <th>Row 3</th>\n",
              "      <td>3</td>\n",
              "      <td>30</td>\n",
              "      <td>60</td>\n",
              "      <td>93</td>\n",
              "    </tr>\n",
              "    <tr>\n",
              "      <th>Row 4</th>\n",
              "      <td>4</td>\n",
              "      <td>40</td>\n",
              "      <td>80</td>\n",
              "      <td>124</td>\n",
              "    </tr>\n",
              "  </tbody>\n",
              "</table>\n",
              "</div>"
            ],
            "text/plain": [
              "       A   B   C    D\n",
              "Row 1  1  10  20   31\n",
              "Row 2  2  20  40   62\n",
              "Row 3  3  30  60   93\n",
              "Row 4  4  40  80  124"
            ]
          },
          "metadata": {
            "tags": []
          },
          "execution_count": 3
        }
      ]
    },
    {
      "cell_type": "code",
      "metadata": {
        "id": "9hbPlD69HDZx",
        "colab": {
          "base_uri": "https://localhost:8080/",
          "height": 206
        },
        "outputId": "515d798a-2b0a-40c0-aae0-499ad4899f20"
      },
      "source": [
        "## With the understanding of the sum of each row, the sum of each column is just to use axis = 0 instead\n",
        "\n",
        "df.loc['Row 5'] = df.apply(custom_sum, axis=0)\n",
        "\n",
        "df"
      ],
      "execution_count": null,
      "outputs": [
        {
          "output_type": "execute_result",
          "data": {
            "text/html": [
              "<div>\n",
              "<style scoped>\n",
              "    .dataframe tbody tr th:only-of-type {\n",
              "        vertical-align: middle;\n",
              "    }\n",
              "\n",
              "    .dataframe tbody tr th {\n",
              "        vertical-align: top;\n",
              "    }\n",
              "\n",
              "    .dataframe thead th {\n",
              "        text-align: right;\n",
              "    }\n",
              "</style>\n",
              "<table border=\"1\" class=\"dataframe\">\n",
              "  <thead>\n",
              "    <tr style=\"text-align: right;\">\n",
              "      <th></th>\n",
              "      <th>A</th>\n",
              "      <th>B</th>\n",
              "      <th>C</th>\n",
              "      <th>D</th>\n",
              "    </tr>\n",
              "  </thead>\n",
              "  <tbody>\n",
              "    <tr>\n",
              "      <th>Row 1</th>\n",
              "      <td>1</td>\n",
              "      <td>10</td>\n",
              "      <td>20</td>\n",
              "      <td>31</td>\n",
              "    </tr>\n",
              "    <tr>\n",
              "      <th>Row 2</th>\n",
              "      <td>2</td>\n",
              "      <td>20</td>\n",
              "      <td>40</td>\n",
              "      <td>62</td>\n",
              "    </tr>\n",
              "    <tr>\n",
              "      <th>Row 3</th>\n",
              "      <td>3</td>\n",
              "      <td>30</td>\n",
              "      <td>60</td>\n",
              "      <td>93</td>\n",
              "    </tr>\n",
              "    <tr>\n",
              "      <th>Row 4</th>\n",
              "      <td>4</td>\n",
              "      <td>40</td>\n",
              "      <td>80</td>\n",
              "      <td>124</td>\n",
              "    </tr>\n",
              "    <tr>\n",
              "      <th>Row 5</th>\n",
              "      <td>10</td>\n",
              "      <td>100</td>\n",
              "      <td>200</td>\n",
              "      <td>310</td>\n",
              "    </tr>\n",
              "  </tbody>\n",
              "</table>\n",
              "</div>"
            ],
            "text/plain": [
              "        A    B    C    D\n",
              "Row 1   1   10   20   31\n",
              "Row 2   2   20   40   62\n",
              "Row 3   3   30   60   93\n",
              "Row 4   4   40   80  124\n",
              "Row 5  10  100  200  310"
            ]
          },
          "metadata": {
            "tags": []
          },
          "execution_count": 4
        }
      ]
    },
    {
      "cell_type": "markdown",
      "metadata": {
        "id": "Y9BcGPAMIElE"
      },
      "source": [
        "**Use lambda with apply**\n",
        "\n",
        "You can also use **lambda expression** with Pandas apply() function.\n",
        "\n",
        "> The lambda equivalent for the sum of each row of a DataFrame:\n",
        "<pre>\n",
        "df['D'] = df.apply(lambda x:x.sum(), axis=1)\n",
        "</pre>\n",
        "\n",
        "> The lambda equivalent for the sum of each column of a DataFrame:\n",
        "<pre>\n",
        "df['Row 5'] = df.apply(lambda x:x.sum(), axis=0)\n",
        "</pre>\n",
        "\n",
        "> And the lambda equivalent for multiply by 2 on a single column value or simply said **Series**:\n",
        "<pre>\n",
        "df['D'] = df['C'].apply(lambda x:x*2)\n",
        "</pre>"
      ]
    },
    {
      "cell_type": "code",
      "metadata": {
        "id": "Vv4BiV5sKJuK",
        "colab": {
          "base_uri": "https://localhost:8080/",
          "height": 206
        },
        "outputId": "18b375cd-d565-4e6c-89cc-23188f01f523"
      },
      "source": [
        "## Uncomment to run this example :\n",
        "df['D'] = df['C'].apply(lambda x:x*2)\n",
        "df"
      ],
      "execution_count": null,
      "outputs": [
        {
          "output_type": "execute_result",
          "data": {
            "text/html": [
              "<div>\n",
              "<style scoped>\n",
              "    .dataframe tbody tr th:only-of-type {\n",
              "        vertical-align: middle;\n",
              "    }\n",
              "\n",
              "    .dataframe tbody tr th {\n",
              "        vertical-align: top;\n",
              "    }\n",
              "\n",
              "    .dataframe thead th {\n",
              "        text-align: right;\n",
              "    }\n",
              "</style>\n",
              "<table border=\"1\" class=\"dataframe\">\n",
              "  <thead>\n",
              "    <tr style=\"text-align: right;\">\n",
              "      <th></th>\n",
              "      <th>A</th>\n",
              "      <th>B</th>\n",
              "      <th>C</th>\n",
              "      <th>D</th>\n",
              "    </tr>\n",
              "  </thead>\n",
              "  <tbody>\n",
              "    <tr>\n",
              "      <th>Row 1</th>\n",
              "      <td>1</td>\n",
              "      <td>10</td>\n",
              "      <td>20</td>\n",
              "      <td>40</td>\n",
              "    </tr>\n",
              "    <tr>\n",
              "      <th>Row 2</th>\n",
              "      <td>2</td>\n",
              "      <td>20</td>\n",
              "      <td>40</td>\n",
              "      <td>80</td>\n",
              "    </tr>\n",
              "    <tr>\n",
              "      <th>Row 3</th>\n",
              "      <td>3</td>\n",
              "      <td>30</td>\n",
              "      <td>60</td>\n",
              "      <td>120</td>\n",
              "    </tr>\n",
              "    <tr>\n",
              "      <th>Row 4</th>\n",
              "      <td>4</td>\n",
              "      <td>40</td>\n",
              "      <td>80</td>\n",
              "      <td>160</td>\n",
              "    </tr>\n",
              "    <tr>\n",
              "      <th>Row 5</th>\n",
              "      <td>10</td>\n",
              "      <td>100</td>\n",
              "      <td>200</td>\n",
              "      <td>400</td>\n",
              "    </tr>\n",
              "  </tbody>\n",
              "</table>\n",
              "</div>"
            ],
            "text/plain": [
              "        A    B    C    D\n",
              "Row 1   1   10   20   40\n",
              "Row 2   2   20   40   80\n",
              "Row 3   3   30   60  120\n",
              "Row 4   4   40   80  160\n",
              "Row 5  10  100  200  400"
            ]
          },
          "metadata": {
            "tags": []
          },
          "execution_count": 5
        }
      ]
    },
    {
      "cell_type": "code",
      "metadata": {
        "id": "5W34UZhVCp5j",
        "colab": {
          "base_uri": "https://localhost:8080/"
        },
        "outputId": "2789287e-6a9d-4178-de00-82e127b6d0f3"
      },
      "source": [
        "## Self Test time - 2 mins - One of the Student would explain : What is this code doing ??\n",
        "## many ways to apply if-conditions-in-pandas-dataframe\n",
        "## https://datatofish.com/if-condition-in-pandas-dataframe/\n",
        "\n",
        "## First scan this simple example :\n",
        "import pandas as pd\n",
        "\n",
        "numbers = {'set_of_numbers': [1,2,3,4,5,6,7,8,9,10]}\n",
        "df = pd.DataFrame(numbers,columns=['set_of_numbers'])\n",
        "\n",
        "print (df)\n",
        "print (\"----------------------\")\n",
        "\n",
        "df['equal_or_lower_than_4?'] = df['set_of_numbers'].apply(lambda x: 'True' if x <= 4 else 'False')\n",
        "\n",
        "print (df)"
      ],
      "execution_count": null,
      "outputs": [
        {
          "output_type": "stream",
          "text": [
            "   set_of_numbers\n",
            "0               1\n",
            "1               2\n",
            "2               3\n",
            "3               4\n",
            "4               5\n",
            "5               6\n",
            "6               7\n",
            "7               8\n",
            "8               9\n",
            "9              10\n",
            "----------------------\n",
            "   set_of_numbers equal_or_lower_than_4?\n",
            "0               1                   True\n",
            "1               2                   True\n",
            "2               3                   True\n",
            "3               4                   True\n",
            "4               5                  False\n",
            "5               6                  False\n",
            "6               7                  False\n",
            "7               8                  False\n",
            "8               9                  False\n",
            "9              10                  False\n"
          ],
          "name": "stdout"
        }
      ]
    },
    {
      "cell_type": "markdown",
      "metadata": {
        "id": "IOw9Q5TxK-fo"
      },
      "source": [
        "Load your **WINE REVIEW DATASET** :"
      ]
    },
    {
      "cell_type": "code",
      "metadata": {
        "id": "akLeAxDmKZA5",
        "colab": {
          "resources": {
            "http://localhost:8080/nbextensions/google.colab/files.js": {
              "data": "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",
              "ok": true,
              "headers": [
                [
                  "content-type",
                  "application/javascript"
                ]
              ],
              "status": 200,
              "status_text": ""
            }
          },
          "base_uri": "https://localhost:8080/",
          "height": 111
        },
        "outputId": "8a0eea1a-9238-499b-d1e1-be0206fe489b"
      },
      "source": [
        "## load the wine_reviews dataset\n",
        "from google.colab import files\n",
        "files.upload()"
      ],
      "execution_count": null,
      "outputs": []
    },
    {
      "cell_type": "code",
      "metadata": {
        "id": "RS91yOwTK7US",
        "colab": {
          "base_uri": "https://localhost:8080/",
          "height": 268
        },
        "outputId": "73f43a18-b618-4e8f-ff0f-2d9a91301bea"
      },
      "source": [
        "import pandas as pd\n",
        "wine_reviews = pd.read_csv(\"wine reviews_small.csv\", index_col=0)\n",
        "wine_reviews.head(2)"
      ],
      "execution_count": null,
      "outputs": [
        {
          "output_type": "execute_result",
          "data": {
            "text/html": [
              "<div>\n",
              "<style scoped>\n",
              "    .dataframe tbody tr th:only-of-type {\n",
              "        vertical-align: middle;\n",
              "    }\n",
              "\n",
              "    .dataframe tbody tr th {\n",
              "        vertical-align: top;\n",
              "    }\n",
              "\n",
              "    .dataframe thead th {\n",
              "        text-align: right;\n",
              "    }\n",
              "</style>\n",
              "<table border=\"1\" class=\"dataframe\">\n",
              "  <thead>\n",
              "    <tr style=\"text-align: right;\">\n",
              "      <th></th>\n",
              "      <th>country</th>\n",
              "      <th>description</th>\n",
              "      <th>designation</th>\n",
              "      <th>points</th>\n",
              "      <th>price</th>\n",
              "      <th>province</th>\n",
              "      <th>region_1</th>\n",
              "      <th>region_2</th>\n",
              "      <th>taster_name</th>\n",
              "      <th>taster_twitter_handle</th>\n",
              "      <th>title</th>\n",
              "      <th>variety</th>\n",
              "      <th>winery</th>\n",
              "    </tr>\n",
              "  </thead>\n",
              "  <tbody>\n",
              "    <tr>\n",
              "      <th>0</th>\n",
              "      <td>Italy</td>\n",
              "      <td>Aromas include tropical fruit, broom, brimston...</td>\n",
              "      <td>Vulkà Bianco</td>\n",
              "      <td>87</td>\n",
              "      <td>NaN</td>\n",
              "      <td>Sicily &amp; Sardinia</td>\n",
              "      <td>Etna</td>\n",
              "      <td>NaN</td>\n",
              "      <td>Kerin O’Keefe</td>\n",
              "      <td>@kerinokeefe</td>\n",
              "      <td>Nicosia 2013 Vulkà Bianco  (Etna)</td>\n",
              "      <td>White Blend</td>\n",
              "      <td>Nicosia</td>\n",
              "    </tr>\n",
              "    <tr>\n",
              "      <th>1</th>\n",
              "      <td>Portugal</td>\n",
              "      <td>This is ripe and fruity, a wine that is smooth...</td>\n",
              "      <td>Avidagos</td>\n",
              "      <td>87</td>\n",
              "      <td>15.0</td>\n",
              "      <td>Douro</td>\n",
              "      <td>NaN</td>\n",
              "      <td>NaN</td>\n",
              "      <td>Roger Voss</td>\n",
              "      <td>@vossroger</td>\n",
              "      <td>Quinta dos Avidagos 2011 Avidagos Red (Douro)</td>\n",
              "      <td>Portuguese Red</td>\n",
              "      <td>Quinta dos Avidagos</td>\n",
              "    </tr>\n",
              "  </tbody>\n",
              "</table>\n",
              "</div>"
            ],
            "text/plain": [
              "    country  ...               winery\n",
              "0     Italy  ...              Nicosia\n",
              "1  Portugal  ...  Quinta dos Avidagos\n",
              "\n",
              "[2 rows x 13 columns]"
            ]
          },
          "metadata": {
            "tags": []
          },
          "execution_count": 9
        }
      ]
    },
    {
      "cell_type": "markdown",
      "metadata": {
        "id": "sAwB_RsJCr7R"
      },
      "source": [
        "<font color='red'> Create a rating column in the **wine_reviews** dataframe, based on the following logic : (solve it 4 mins) </font>\n",
        "\n",
        "> \\>70 points and <81 **=> 3 stars** \n",
        "\n",
        "> \\>80 and <91 **=> 4 stars** \n",
        "\n",
        "> \\>90 **=> 5 stars**"
      ]
    },
    {
      "cell_type": "code",
      "metadata": {
        "id": "IsnsJKlvClTP",
        "colab": {
          "base_uri": "https://localhost:8080/"
        },
        "outputId": "83d59d63-2f8e-4a72-da6e-925214f9637e"
      },
      "source": [
        "## lets assign ratings , with the logic as below :\n",
        "# >70 points and <81 => 3 stars , >80 and <91 => 4 stars, >90 => 5 stars, In all other cases give it 0 rating\n",
        "\n",
        "wine_reviews['rating'] = wine_reviews['points'].apply(lambda x: '5' if x >90 else \n",
        "                                                      ('4' if (x >80 & x<91) else \n",
        "                                                      ('3' if (x >70 & x<81) else '0')))\n",
        "\n",
        "\n",
        "## How to verify that rating is applied properly ?? \n",
        "## lets print the value_counts of rating column\n",
        "print(wine_reviews['rating'].value_counts())\n",
        "\n",
        "print(\"------------------------------\")\n",
        "print(\"statistical details of points feature\")\n",
        "print(wine_reviews['points'].describe())"
      ],
      "execution_count": null,
      "outputs": [
        {
          "output_type": "stream",
          "text": [
            "4    22126\n",
            "5     7469\n",
            "3       70\n",
            "Name: rating, dtype: int64\n",
            "------------------------------\n",
            "statistical details of points feature\n",
            "count    29665.000000\n",
            "mean        88.385539\n",
            "std          3.010396\n",
            "min         80.000000\n",
            "25%         86.000000\n",
            "50%         88.000000\n",
            "75%         91.000000\n",
            "max        100.000000\n",
            "Name: points, dtype: float64\n"
          ],
          "name": "stdout"
        }
      ]
    },
    {
      "cell_type": "markdown",
      "metadata": {
        "id": "TEQPtKaMHr6Z"
      },
      "source": [
        "**With result_type parameter**\n",
        "\n",
        "result_type is a parameter in apply() set to **`'expand'`**, **`'reduce'`**, or **`'broadcast'`** to get the desired type of result.\n",
        "\n",
        "In the above scenario if **`result_type`** is set to 'broadcast' then the output will be a DataFrame substituted by the **`custom_sum`** value."
      ]
    },
    {
      "cell_type": "code",
      "metadata": {
        "id": "tD5iV62aQxZL",
        "colab": {
          "base_uri": "https://localhost:8080/",
          "height": 175
        },
        "outputId": "944a36bc-8b9f-42dc-d023-08bc8b193726"
      },
      "source": [
        "import pandas as pd\n",
        "df = pd.DataFrame({ 'A': [1,2,3,4], \n",
        "                    'B': [10,20,30,40],\n",
        "                    'C': [20,40,60,80]\n",
        "                  }, \n",
        "                  index=['Row 1', 'Row 2', 'Row 3', 'Row 4'])\n",
        "\n",
        "dfCopy1 = df.apply(custom_sum, axis=1, result_type='broadcast')\n",
        "dfCopy1"
      ],
      "execution_count": null,
      "outputs": [
        {
          "output_type": "execute_result",
          "data": {
            "text/html": [
              "<div>\n",
              "<style scoped>\n",
              "    .dataframe tbody tr th:only-of-type {\n",
              "        vertical-align: middle;\n",
              "    }\n",
              "\n",
              "    .dataframe tbody tr th {\n",
              "        vertical-align: top;\n",
              "    }\n",
              "\n",
              "    .dataframe thead th {\n",
              "        text-align: right;\n",
              "    }\n",
              "</style>\n",
              "<table border=\"1\" class=\"dataframe\">\n",
              "  <thead>\n",
              "    <tr style=\"text-align: right;\">\n",
              "      <th></th>\n",
              "      <th>A</th>\n",
              "      <th>B</th>\n",
              "      <th>C</th>\n",
              "    </tr>\n",
              "  </thead>\n",
              "  <tbody>\n",
              "    <tr>\n",
              "      <th>Row 1</th>\n",
              "      <td>31</td>\n",
              "      <td>31</td>\n",
              "      <td>31</td>\n",
              "    </tr>\n",
              "    <tr>\n",
              "      <th>Row 2</th>\n",
              "      <td>62</td>\n",
              "      <td>62</td>\n",
              "      <td>62</td>\n",
              "    </tr>\n",
              "    <tr>\n",
              "      <th>Row 3</th>\n",
              "      <td>93</td>\n",
              "      <td>93</td>\n",
              "      <td>93</td>\n",
              "    </tr>\n",
              "    <tr>\n",
              "      <th>Row 4</th>\n",
              "      <td>124</td>\n",
              "      <td>124</td>\n",
              "      <td>124</td>\n",
              "    </tr>\n",
              "  </tbody>\n",
              "</table>\n",
              "</div>"
            ],
            "text/plain": [
              "         A    B    C\n",
              "Row 1   31   31   31\n",
              "Row 2   62   62   62\n",
              "Row 3   93   93   93\n",
              "Row 4  124  124  124"
            ]
          },
          "metadata": {
            "tags": []
          },
          "execution_count": 14
        }
      ]
    },
    {
      "cell_type": "markdown",
      "metadata": {
        "id": "4U56tghBRaxt"
      },
      "source": [
        "<font color='darkgreen'><b>The result is broadcasted to the original shape of the frame, the original index and columns are retained.</b></font>\n",
        "\n",
        "To understand result_type as **`'expand'`** and **`'reduce'`**, we will first create a function that returns a list."
      ]
    },
    {
      "cell_type": "code",
      "metadata": {
        "id": "7TLS_pWNRw4e",
        "colab": {
          "base_uri": "https://localhost:8080/",
          "height": 175
        },
        "outputId": "f3b12b89-dc41-4026-834f-e87baf02fa19"
      },
      "source": [
        "def cal_multi_col(row):\n",
        "    return [row['A'] * 2, row['B'] * 3]\n",
        "\n",
        "\n",
        "## Now apply this function across the DataFrame column with result_type as 'expand'\n",
        "dfExpand = df.apply(cal_multi_col, axis=1, result_type='expand')\n",
        "dfExpand"
      ],
      "execution_count": null,
      "outputs": [
        {
          "output_type": "execute_result",
          "data": {
            "text/html": [
              "<div>\n",
              "<style scoped>\n",
              "    .dataframe tbody tr th:only-of-type {\n",
              "        vertical-align: middle;\n",
              "    }\n",
              "\n",
              "    .dataframe tbody tr th {\n",
              "        vertical-align: top;\n",
              "    }\n",
              "\n",
              "    .dataframe thead th {\n",
              "        text-align: right;\n",
              "    }\n",
              "</style>\n",
              "<table border=\"1\" class=\"dataframe\">\n",
              "  <thead>\n",
              "    <tr style=\"text-align: right;\">\n",
              "      <th></th>\n",
              "      <th>0</th>\n",
              "      <th>1</th>\n",
              "    </tr>\n",
              "  </thead>\n",
              "  <tbody>\n",
              "    <tr>\n",
              "      <th>Row 1</th>\n",
              "      <td>2</td>\n",
              "      <td>30</td>\n",
              "    </tr>\n",
              "    <tr>\n",
              "      <th>Row 2</th>\n",
              "      <td>4</td>\n",
              "      <td>60</td>\n",
              "    </tr>\n",
              "    <tr>\n",
              "      <th>Row 3</th>\n",
              "      <td>6</td>\n",
              "      <td>90</td>\n",
              "    </tr>\n",
              "    <tr>\n",
              "      <th>Row 4</th>\n",
              "      <td>8</td>\n",
              "      <td>120</td>\n",
              "    </tr>\n",
              "  </tbody>\n",
              "</table>\n",
              "</div>"
            ],
            "text/plain": [
              "       0    1\n",
              "Row 1  2   30\n",
              "Row 2  4   60\n",
              "Row 3  6   90\n",
              "Row 4  8  120"
            ]
          },
          "metadata": {
            "tags": []
          },
          "execution_count": 15
        }
      ]
    },
    {
      "cell_type": "code",
      "metadata": {
        "id": "od_u09uzbqVE",
        "colab": {
          "base_uri": "https://localhost:8080/",
          "height": 175
        },
        "outputId": "a16cfa6e-818f-4435-aef3-9a78eba5c50b"
      },
      "source": [
        "## In order to append this to the existing DataFrame, \n",
        "## the result has to be kept in a variable so the column names \n",
        "## can be accessed by res.columns.\n",
        "\n",
        "dfCopy2 = df = pd.DataFrame({ 'A': [1,2,3,4], \n",
        "                    'B': [10,20,30,40],\n",
        "                    'C': [20,40,60,80]\n",
        "                  }, \n",
        "                  index=['Row 1', 'Row 2', 'Row 3', 'Row 4'])\n",
        "\n",
        "dfExpand = dfCopy2.apply(cal_multi_col, axis=1, result_type='expand')\n",
        "dfCopy2[dfExpand.columns] = dfExpand\n",
        "\n",
        "dfCopy2"
      ],
      "execution_count": null,
      "outputs": [
        {
          "output_type": "execute_result",
          "data": {
            "text/html": [
              "<div>\n",
              "<style scoped>\n",
              "    .dataframe tbody tr th:only-of-type {\n",
              "        vertical-align: middle;\n",
              "    }\n",
              "\n",
              "    .dataframe tbody tr th {\n",
              "        vertical-align: top;\n",
              "    }\n",
              "\n",
              "    .dataframe thead th {\n",
              "        text-align: right;\n",
              "    }\n",
              "</style>\n",
              "<table border=\"1\" class=\"dataframe\">\n",
              "  <thead>\n",
              "    <tr style=\"text-align: right;\">\n",
              "      <th></th>\n",
              "      <th>A</th>\n",
              "      <th>B</th>\n",
              "      <th>C</th>\n",
              "      <th>0</th>\n",
              "      <th>1</th>\n",
              "    </tr>\n",
              "  </thead>\n",
              "  <tbody>\n",
              "    <tr>\n",
              "      <th>Row 1</th>\n",
              "      <td>1</td>\n",
              "      <td>10</td>\n",
              "      <td>20</td>\n",
              "      <td>2</td>\n",
              "      <td>30</td>\n",
              "    </tr>\n",
              "    <tr>\n",
              "      <th>Row 2</th>\n",
              "      <td>2</td>\n",
              "      <td>20</td>\n",
              "      <td>40</td>\n",
              "      <td>4</td>\n",
              "      <td>60</td>\n",
              "    </tr>\n",
              "    <tr>\n",
              "      <th>Row 3</th>\n",
              "      <td>3</td>\n",
              "      <td>30</td>\n",
              "      <td>60</td>\n",
              "      <td>6</td>\n",
              "      <td>90</td>\n",
              "    </tr>\n",
              "    <tr>\n",
              "      <th>Row 4</th>\n",
              "      <td>4</td>\n",
              "      <td>40</td>\n",
              "      <td>80</td>\n",
              "      <td>8</td>\n",
              "      <td>120</td>\n",
              "    </tr>\n",
              "  </tbody>\n",
              "</table>\n",
              "</div>"
            ],
            "text/plain": [
              "       A   B   C  0    1\n",
              "Row 1  1  10  20  2   30\n",
              "Row 2  2  20  40  4   60\n",
              "Row 3  3  30  60  6   90\n",
              "Row 4  4  40  80  8  120"
            ]
          },
          "metadata": {
            "tags": []
          },
          "execution_count": 20
        }
      ]
    },
    {
      "cell_type": "code",
      "metadata": {
        "id": "EBY8ro0ycUWe",
        "colab": {
          "base_uri": "https://localhost:8080/",
          "height": 175
        },
        "outputId": "9947b45c-c4c1-4175-a9e9-b758f694ac54"
      },
      "source": [
        "## Next, apply the function across the DataFrame column with result_type as 'reduce' . \n",
        "## result_type='reduce' is just opposite of 'expand' and returns a Series \n",
        "## if possible rather than expanding list-like results.\n",
        "\n",
        "dfCopy3 = df = pd.DataFrame({ 'A': [1,2,3,4], \n",
        "                    'B': [10,20,30,40],\n",
        "                    'C': [20,40,60,80]\n",
        "                  }, \n",
        "                  index=['Row 1', 'Row 2', 'Row 3', 'Row 4'])\n",
        "\n",
        "dfCopy3['New'] = dfCopy3.apply(cal_multi_col, axis=1, result_type='reduce')\n",
        "\n",
        "dfCopy3"
      ],
      "execution_count": null,
      "outputs": [
        {
          "output_type": "execute_result",
          "data": {
            "text/html": [
              "<div>\n",
              "<style scoped>\n",
              "    .dataframe tbody tr th:only-of-type {\n",
              "        vertical-align: middle;\n",
              "    }\n",
              "\n",
              "    .dataframe tbody tr th {\n",
              "        vertical-align: top;\n",
              "    }\n",
              "\n",
              "    .dataframe thead th {\n",
              "        text-align: right;\n",
              "    }\n",
              "</style>\n",
              "<table border=\"1\" class=\"dataframe\">\n",
              "  <thead>\n",
              "    <tr style=\"text-align: right;\">\n",
              "      <th></th>\n",
              "      <th>A</th>\n",
              "      <th>B</th>\n",
              "      <th>C</th>\n",
              "      <th>New</th>\n",
              "    </tr>\n",
              "  </thead>\n",
              "  <tbody>\n",
              "    <tr>\n",
              "      <th>Row 1</th>\n",
              "      <td>1</td>\n",
              "      <td>10</td>\n",
              "      <td>20</td>\n",
              "      <td>[2, 30]</td>\n",
              "    </tr>\n",
              "    <tr>\n",
              "      <th>Row 2</th>\n",
              "      <td>2</td>\n",
              "      <td>20</td>\n",
              "      <td>40</td>\n",
              "      <td>[4, 60]</td>\n",
              "    </tr>\n",
              "    <tr>\n",
              "      <th>Row 3</th>\n",
              "      <td>3</td>\n",
              "      <td>30</td>\n",
              "      <td>60</td>\n",
              "      <td>[6, 90]</td>\n",
              "    </tr>\n",
              "    <tr>\n",
              "      <th>Row 4</th>\n",
              "      <td>4</td>\n",
              "      <td>40</td>\n",
              "      <td>80</td>\n",
              "      <td>[8, 120]</td>\n",
              "    </tr>\n",
              "  </tbody>\n",
              "</table>\n",
              "</div>"
            ],
            "text/plain": [
              "       A   B   C       New\n",
              "Row 1  1  10  20   [2, 30]\n",
              "Row 2  2  20  40   [4, 60]\n",
              "Row 3  3  30  60   [6, 90]\n",
              "Row 4  4  40  80  [8, 120]"
            ]
          },
          "metadata": {
            "tags": []
          },
          "execution_count": 16
        }
      ]
    },
    {
      "cell_type": "markdown",
      "metadata": {
        "id": "Yf-LPa2QdAh9"
      },
      "source": [
        "**How to use applymap()?**\n",
        "\n",
        "applymap() is only available in DataFrame and used for element-wise operation across the whole DataFrame. It has been optimized and some cases work much faster than apply().\n",
        "\n",
        "For example: to output a DataFrame **`with number squared`**"
      ]
    },
    {
      "cell_type": "code",
      "metadata": {
        "id": "7QLs-k1addYy",
        "colab": {
          "base_uri": "https://localhost:8080/",
          "height": 175
        },
        "outputId": "89affd72-4bb8-4dbd-b001-162c468ec686"
      },
      "source": [
        "import numpy as np\n",
        "\n",
        "dfCopy4 = df = pd.DataFrame({ 'A': [1,2,3,4], \n",
        "                    'B': [10,20,30,40],\n",
        "                    'C': [20,40,60,80]\n",
        "                  }, \n",
        "                  index=['Row 1', 'Row 2', 'Row 3', 'Row 4'])\n",
        "\n",
        "dfCopy4 = dfCopy4.applymap(np.square)\n",
        "\n",
        "dfCopy4"
      ],
      "execution_count": null,
      "outputs": [
        {
          "output_type": "execute_result",
          "data": {
            "text/html": [
              "<div>\n",
              "<style scoped>\n",
              "    .dataframe tbody tr th:only-of-type {\n",
              "        vertical-align: middle;\n",
              "    }\n",
              "\n",
              "    .dataframe tbody tr th {\n",
              "        vertical-align: top;\n",
              "    }\n",
              "\n",
              "    .dataframe thead th {\n",
              "        text-align: right;\n",
              "    }\n",
              "</style>\n",
              "<table border=\"1\" class=\"dataframe\">\n",
              "  <thead>\n",
              "    <tr style=\"text-align: right;\">\n",
              "      <th></th>\n",
              "      <th>A</th>\n",
              "      <th>B</th>\n",
              "      <th>C</th>\n",
              "    </tr>\n",
              "  </thead>\n",
              "  <tbody>\n",
              "    <tr>\n",
              "      <th>Row 1</th>\n",
              "      <td>1</td>\n",
              "      <td>100</td>\n",
              "      <td>400</td>\n",
              "    </tr>\n",
              "    <tr>\n",
              "      <th>Row 2</th>\n",
              "      <td>4</td>\n",
              "      <td>400</td>\n",
              "      <td>1600</td>\n",
              "    </tr>\n",
              "    <tr>\n",
              "      <th>Row 3</th>\n",
              "      <td>9</td>\n",
              "      <td>900</td>\n",
              "      <td>3600</td>\n",
              "    </tr>\n",
              "    <tr>\n",
              "      <th>Row 4</th>\n",
              "      <td>16</td>\n",
              "      <td>1600</td>\n",
              "      <td>6400</td>\n",
              "    </tr>\n",
              "  </tbody>\n",
              "</table>\n",
              "</div>"
            ],
            "text/plain": [
              "        A     B     C\n",
              "Row 1   1   100   400\n",
              "Row 2   4   400  1600\n",
              "Row 3   9   900  3600\n",
              "Row 4  16  1600  6400"
            ]
          },
          "metadata": {
            "tags": []
          },
          "execution_count": 21
        }
      ]
    },
    {
      "cell_type": "markdown",
      "metadata": {
        "id": "rD7P9WwyfV7i"
      },
      "source": [
        "**How to use map()?**\n",
        "\n",
        "**map()** is only available in Series and used for substituting each value in a Series with another value. To understand how the **map() works**, we first create a Series."
      ]
    },
    {
      "cell_type": "code",
      "metadata": {
        "id": "Mjs9GuxYfcQD",
        "colab": {
          "base_uri": "https://localhost:8080/"
        },
        "outputId": "f551e9f6-2c4e-47ad-a883-6acdfec96c88"
      },
      "source": [
        "my_laptops = ['lenovo', 'thinkpad', 'ultrabook', 'asus']\n",
        "\n",
        "## suppose , i want to make all strings into uppercase\n",
        "uppered_cases = list(map(str.upper, my_laptops))\n",
        "\n",
        "print(uppered_cases)"
      ],
      "execution_count": null,
      "outputs": [
        {
          "output_type": "stream",
          "text": [
            "['LENOVO', 'THINKPAD', 'ULTRABOOK', 'ASUS']\n"
          ],
          "name": "stdout"
        }
      ]
    },
    {
      "cell_type": "code",
      "metadata": {
        "id": "OvDvzE6hg3tQ",
        "colab": {
          "base_uri": "https://localhost:8080/"
        },
        "outputId": "aee698cb-162e-4ba4-cc9e-a5f2946d2723"
      },
      "source": [
        "## what would this code do ??\n",
        "\n",
        "circle_areas = [3.16773, 5.57668, 4.00914, 56.24241, 9.01344, 32.00013]\n",
        "\n",
        "result = list(map(round, circle_areas))\n",
        "\n",
        "print(result)\n",
        "\n",
        "## If you would like to set the number of significant digits you could do like this :\n",
        "## new_list = list(map(lambda x: round(x,precision),old_list))"
      ],
      "execution_count": null,
      "outputs": [
        {
          "output_type": "stream",
          "text": [
            "[3, 6, 4, 56, 9, 32]\n"
          ],
          "name": "stdout"
        }
      ]
    },
    {
      "cell_type": "markdown",
      "metadata": {
        "id": "Zkv-vphvPFB1"
      },
      "source": [
        "<h3> <font color='red'> <b> Question Time </b> </font>(Solve 4 Qns in 20 mins) </h3>\n",
        "<hr>\n",
        "\n",
        "**1. Create variable centered_price containing a version of the price column with the mean price subtracted.**\n",
        "\n",
        "(Note: *this 'centering' transformation is a common preprocessing step before applying various machine learning algorithms.*)"
      ]
    },
    {
      "cell_type": "code",
      "metadata": {
        "id": "azJ8-TCpQQ9a",
        "colab": {
          "base_uri": "https://localhost:8080/"
        },
        "outputId": "7f230a53-d7cc-475e-f205-17ca889a196d"
      },
      "source": [
        "## find the mean price \n",
        "review_price_mean = wine_reviews.price.mean()\n",
        "\n",
        "## We are normalising the price, that is substracting the mean from each price value\n",
        "## thus reducing the range of price. \n",
        "## to test the range , just for curiosity , u can find the min and max values of price column\n",
        "minPrice = wine_reviews.price.min()\n",
        "maxPrice = wine_reviews.price.max()\n",
        "\n",
        "print(\"Minimum price before normalising \", minPrice)\n",
        "print(\"Maximum price before normalising \", maxPrice)\n",
        "print(\"--------------------------------------\")\n",
        "\n",
        "## now finding centered price\n",
        "## your code here\n",
        "centered_price = wine_reviews.price.map(lambda x:x - review_price_mean)\n",
        "\n",
        "#wine_reviews.price[0]\n",
        "print(centered_price)\n",
        "print(\"--------------------------------------\")\n",
        "\n",
        "## Just figuring out the min & max range after normalising. \n",
        "print(\"Minimum price after normalising \", centered_price.min())\n",
        "print(\"Maximum price after normalising \", centered_price.max())\n",
        "## Range don't seem to have reduced !!"
      ],
      "execution_count": null,
      "outputs": [
        {
          "output_type": "stream",
          "text": [
            "Minimum price before normalising  4.0\n",
            "Maximum price before normalising  2500.0\n",
            "--------------------------------------\n",
            "0              NaN\n",
            "1       -19.990123\n",
            "2       -20.990123\n",
            "3       -21.990123\n",
            "4        30.009877\n",
            "           ...    \n",
            "29996   -15.990123\n",
            "29997    19.009877\n",
            "29998   -11.990123\n",
            "29999    40.009877\n",
            "30000     5.009877\n",
            "Name: price, Length: 29665, dtype: float64\n",
            "--------------------------------------\n",
            "Minimum price after normalising  -30.990123456790123\n",
            "Maximum price after normalising  2465.00987654321\n"
          ],
          "name": "stdout"
        }
      ]
    },
    {
      "cell_type": "markdown",
      "metadata": {
        "id": "DzPLF5RcTyog"
      },
      "source": [
        "<hr>\n",
        "\n",
        "**2. I'm an `economical` wine buyer. Which wine is the \"best bargain\"? Create a variable `bargain_wine` with the title of the wine with the highest `points-to-price` ratio in the dataset.**"
      ]
    },
    {
      "cell_type": "code",
      "metadata": {
        "id": "2ZMCSN__UEPa",
        "colab": {
          "base_uri": "https://localhost:8080/",
          "height": 35
        },
        "outputId": "a76058a4-f1fc-4f27-d8b4-1a0ba918b2aa"
      },
      "source": [
        "## Learn a new function for solving this problem \n",
        "## max() returns the max value \n",
        "## idxmax() returns the index of the max value.\n",
        "## https://www.geeksforgeeks.org/python-pandas-dataframe-idxmax/\n",
        "\n",
        "## your code here\n",
        "bargain_idx = (wine_reviews['points'] / wine_reviews['price']).idxmax()\n",
        "bargain_idx\n",
        "\n",
        "## once we get the Index of the row-entry which give us the max ratio of points to price\n",
        "## then we can get 'title' of the wine. Obviously it is the best wine.  \n",
        "\n",
        "## your code here\n",
        "bargain_wine = wine_reviews.loc[bargain_idx,'title']\n",
        "bargain_wine"
      ],
      "execution_count": null,
      "outputs": [
        {
          "output_type": "execute_result",
          "data": {
            "application/vnd.google.colaboratory.intrinsic+json": {
              "type": "string"
            },
            "text/plain": [
              "'Felix Solis 2013 Flirty Bird Syrah (Vino de la Tierra de Castilla)'"
            ]
          },
          "metadata": {
            "tags": []
          },
          "execution_count": 34
        }
      ]
    },
    {
      "cell_type": "markdown",
      "metadata": {
        "id": "JTb2PRQOYqPc"
      },
      "source": [
        "<hr>\n",
        "\n",
        "**3. There are only so many words you can use when describing a bottle of wine. Is a wine more likely to be `\"tropical\"` or `\"fruity\"`? Create a Series `descriptor_counts` counting how many times each of these two words appears in the description column in the dataset.**"
      ]
    },
    {
      "cell_type": "code",
      "metadata": {
        "id": "QKfn-bI4ZI24",
        "colab": {
          "base_uri": "https://localhost:8080/"
        },
        "outputId": "81911576-1d27-42ef-9eb2-58275a258019"
      },
      "source": [
        "## we are applying map() over the column \"description\" .  \n",
        "## sum() totals the no. of entries\n",
        "count_tropical = wine_reviews.description.map(lambda d: \"tropical\" in d).sum()\n",
        "\n",
        "## repeating above step for finding count_of_fruity\n",
        "count_fruity = wine_reviews.description.map(lambda d: \"fruity\" in d).sum()\n",
        "\n",
        "descriptor_counts = pd.Series([count_tropical, count_fruity], index=['tropical', 'fruity'])\n",
        "\n",
        "descriptor_counts\n",
        "\n",
        "\n"
      ],
      "execution_count": null,
      "outputs": [
        {
          "output_type": "execute_result",
          "data": {
            "text/plain": [
              "tropical     837\n",
              "fruity      2137\n",
              "dtype: int64"
            ]
          },
          "metadata": {
            "tags": []
          },
          "execution_count": 38
        }
      ]
    },
    {
      "cell_type": "markdown",
      "metadata": {
        "id": "ZeAsN2VIa11f"
      },
      "source": [
        "<hr>\n",
        "\n",
        "4. We'd like to host these wine reviews on our website, but a rating system ranging from 80 to 100 points is too hard to understand - we'd like to translate them into simple star ratings. **A score of `95` or higher counts as `3 stars`, a score of at least `85` but less than `95` is `2 stars`. Any other score is `1 star`.**\n",
        "\n",
        "Also, the **Canadian Vintners** Association bought a lot of ads on the site, so any wines from Canada should `automatically` get 3 stars, regardless of points.\n",
        "\n",
        "Create a series **`star_ratings`** with the number of stars corresponding to each review in the dataset. "
      ]
    },
    {
      "cell_type": "code",
      "metadata": {
        "id": "DNVA0n2BbhzZ"
      },
      "source": [
        "## lets define a function\n",
        "## each time apply fn sends a row-entry to the caln_stars function. \n",
        "## By using if-elif-else we check and return some points\n",
        "def caln_stars(row):\n",
        "    if row.country == 'Canada':\n",
        "        return 3\n",
        "    elif row.points >= 95:\n",
        "        return 3\n",
        "    elif row.points >= 85:\n",
        "        return 2\n",
        "    else:\n",
        "        return 1\n",
        "star_ratings = wine_reviews.apply(caln_stars, axis=1)\n",
        "## Remember :  axis=1 => row wise,  axis=0 is default => column wise\n",
        "\n",
        "## to check the various pointers, we would use use value_counts() function\n",
        "star_ratings.value_counts()"
      ],
      "execution_count": null,
      "outputs": []
    },
    {
      "cell_type": "markdown",
      "metadata": {
        "id": "5oecK34Q-w4E"
      },
      "source": [
        "<hr>\n",
        "\n",
        "<small>The study content is prepared by Rocky Jagtiani ( https://linkedin.com/in/rocky-jagtiani-3b390649/) - <b>rocky@suvenconsultants.com</b> </small>\n",
        "\n",
        "<img src =\"https://drive.google.com/uc?id=1-y7gMwSV7--Bu6Y-piHkdhIrjEkeZFQW\"  width = '150px' />\n",
        "\n",
        "\n",
        "\n",
        "<small><b>Copying this material is prohibited and needs prior permission from the Author & the Management of https://www.suvenconsultants.com/  </b></small>\n",
        "\n",
        "<hr>"
      ]
    },
    {
      "cell_type": "markdown",
      "metadata": {
        "id": "6VMMN9SN-824"
      },
      "source": [
        "Thank you for going through the Notebook. I am sure it was a fruitful learning exprience. Even you can earn your **`\"Masters in Data Science\"`** certification followed with Internships and Placement calls. Do look at https://datascience.suvenconsultants.com for Online live classroom training programmes from <u>Rocky Sir & his team of data scientist </u>.\n",
        "\n",
        "![CertificationPic_In_the_NB](https://drive.google.com/uc?id=1lLSFd1O5hrIRBIWztjBiO6RcyPwyDmyF)\n",
        "\n"
      ]
    }
  ]
}