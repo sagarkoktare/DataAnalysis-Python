{
  "nbformat": 4,
  "nbformat_minor": 0,
  "metadata": {
    "colab": {
      "name": "Data Analysis - Pandas - Notebook4",
      "provenance": [],
      "collapsed_sections": []
    },
    "kernelspec": {
      "name": "python3",
      "display_name": "Python 3"
    }
  },
  "cells": [
    {
      "cell_type": "markdown",
      "metadata": {
        "id": "bhUidEadPuzf"
      },
      "source": [
        "<center>\n",
        "<img src='https://drive.google.com/uc?id=1jx4705-9ZraacMfKQfLc7ZDSgaL4C9Sj' height='180px' />\n",
        "</center>"
      ]
    },
    {
      "cell_type": "markdown",
      "metadata": {
        "id": "tqRozdPoVByp"
      },
      "source": [
        "<h3>Fill the Missing Values, Renaming & Combining </h3>"
      ]
    },
    {
      "cell_type": "code",
      "metadata": {
        "id": "6KPFy7XQPLv2",
        "colab": {
          "base_uri": "https://localhost:8080/"
        },
        "outputId": "0c154f11-4816-4ac0-d9bf-08673f3e0f03"
      },
      "source": [
        "## Replacing missing values is a common operation. \n",
        "## Pandas provides a really handy method for this problem: fillna(). \n",
        "## fillna() provides a few different strategies for mitigating such data.\n",
        "\n",
        "## Example 1:  First Understand : How NaN values get into my dataset ???\n",
        "import pandas as pd\n",
        "\n",
        "## Note : I have purposely made a df with some numbers and some improper values\n",
        "df = pd.DataFrame({'values': ['700','ABC300','500','900XYZ']})\n",
        "\n",
        "## Now , if I convert to numeric, obviously alpha-numeric data will not get converted\n",
        "df['values'] = pd.to_numeric(df['values'], errors='coerce')\n",
        "## use errors='coerce' to replace the error-values by np.NaN\n",
        "## https://stackoverflow.com/questions/38304691/drop-rows-with-errors-for-pandas-data-coercion\n",
        "\n",
        "print(df)\n",
        "## such actions introduce NaN values in your dataset."
      ],
      "execution_count": null,
      "outputs": [
        {
          "output_type": "stream",
          "text": [
            "   values\n",
            "0   700.0\n",
            "1     NaN\n",
            "2   500.0\n",
            "3     NaN\n"
          ],
          "name": "stdout"
        }
      ]
    },
    {
      "cell_type": "code",
      "metadata": {
        "id": "dZGEk9B4YLYi",
        "colab": {
          "base_uri": "https://localhost:8080/"
        },
        "outputId": "6741dded-0980-4e17-a06a-2765713fd061"
      },
      "source": [
        "## In order to replace the NaN values with zeros or any other value for a column using pandas\n",
        "df['values'] = df['values'].fillna(0)\n",
        "\n",
        "print(df)"
      ],
      "execution_count": null,
      "outputs": [
        {
          "output_type": "stream",
          "text": [
            "   values\n",
            "0   700.0\n",
            "1     0.0\n",
            "2   500.0\n",
            "3     0.0\n"
          ],
          "name": "stdout"
        }
      ]
    },
    {
      "cell_type": "markdown",
      "metadata": {
        "id": "uA09YrVZZCf0"
      },
      "source": [
        "**`Remember`** : to fill NaN values from a column use fillna() method over a column.\n",
        "<pre> df['DataFrame Column'] = df['DataFrame Column'].fillna(0) </pre>\n",
        "\n",
        "**In case** , you plan to replace all NaN's in the **entire dataframe** then **apply fillna()** over the dataframe or u can also use  **replace()**, <font color='darkgreen'>refer example below:</font>"
      ]
    },
    {
      "cell_type": "code",
      "metadata": {
        "id": "e1uibt5KePnR",
        "colab": {
          "base_uri": "https://localhost:8080/"
        },
        "outputId": "a244ec9d-3a7a-4498-92e0-b42b541cbe59"
      },
      "source": [
        "import pandas as pd\n",
        "import numpy as np\n",
        "\n",
        "df = pd.DataFrame({'values_1': ['700','ABC300','500','900XYZ'],\n",
        "                   'values_2': ['DDD200','150','350ZZZ','400'] \n",
        "                   })\n",
        "\n",
        "df = df.apply (pd.to_numeric, errors='coerce')\n",
        "print (df)\n",
        "\n",
        "print(\"----------------------------------\")\n",
        "\n",
        "new_df = df.fillna(0)   \n",
        "## or use this : \n",
        "## new_df = df.replace(np.nan,0)\n",
        "\n",
        "print (new_df)"
      ],
      "execution_count": null,
      "outputs": [
        {
          "output_type": "stream",
          "text": [
            "   values_1  values_2\n",
            "0     700.0       NaN\n",
            "1       NaN     150.0\n",
            "2     500.0       NaN\n",
            "3       NaN     400.0\n",
            "----------------------------------\n",
            "   values_1  values_2\n",
            "0     700.0       0.0\n",
            "1       0.0     150.0\n",
            "2     500.0       0.0\n",
            "3       0.0     400.0\n"
          ],
          "name": "stdout"
        }
      ]
    },
    {
      "cell_type": "markdown",
      "metadata": {
        "id": "cqaHbSPHgfne"
      },
      "source": [
        "<font color='red'><b>How to replace NaNs by preceding values in pandas DataFrame?</b></font>\n",
        "<pre>\n",
        "<b>Hint use</b> : df.fillna(method='ffill'). Also <u>self try</u> df.fillna(method='bfill') \n",
        "</pre>"
      ]
    },
    {
      "cell_type": "code",
      "metadata": {
        "id": "oso90TN7h27r",
        "colab": {
          "base_uri": "https://localhost:8080/"
        },
        "outputId": "cbf38a16-a175-4de5-d36b-c55573fe4aad"
      },
      "source": [
        "## creating a dummy dataframe\n",
        "\n",
        "df = pd.DataFrame([[1, 2, 3], [4, None, None], [None, None, 9]])\n",
        "\n",
        "df.fillna(method='ffill')\n",
        "## ffill means forward fill\n",
        "print(df)\n",
        "## This method doesn't modify the DataFrame inplace ; specify inplace=True\n",
        "print(\"-------------------\")\n",
        "df.fillna(method='ffill', inplace=True)\n",
        "print(df)\n",
        "print(\"-------------------\")\n",
        "df.fillna(method='bfill', inplace=True)  #yourself\n",
        "print(df)"
      ],
      "execution_count": null,
      "outputs": [
        {
          "output_type": "stream",
          "text": [
            "     0    1    2\n",
            "0  1.0  2.0  3.0\n",
            "1  4.0  NaN  NaN\n",
            "2  NaN  NaN  9.0\n",
            "-------------------\n",
            "     0    1    2\n",
            "0  1.0  2.0  3.0\n",
            "1  4.0  2.0  3.0\n",
            "2  4.0  2.0  9.0\n",
            "-------------------\n",
            "     0    1    2\n",
            "0  1.0  2.0  3.0\n",
            "1  4.0  2.0  3.0\n",
            "2  4.0  2.0  9.0\n"
          ],
          "name": "stdout"
        }
      ]
    },
    {
      "cell_type": "markdown",
      "metadata": {
        "id": "LQ2ta1m7jW-K"
      },
      "source": [
        "Oftentimes data will come to us with column names, index names, or other naming conventions that we are not satisfied with. Use **`rename()`**, which lets you change `index` names and/or `column` names.\n",
        "\n",
        "<b><u>RENAME SPECIFIC COLUMNS</u></b>\n",
        "\n",
        "Use the **`df.rename()`** function and refer the columns to be renamed. Not all the columns have to be renamed:\n",
        "\n",
        "<pre>\n",
        "df = df.rename(columns={'oldName1': 'newName1', 'oldName2': 'newName2'})\n",
        "\n",
        "### Or rename the existing DataFrame (rather than creating a copy) \n",
        "df.rename(columns={'oldName1': 'newName1', 'oldName2': 'newName2'}, inplace=True)"
      ]
    },
    {
      "cell_type": "code",
      "metadata": {
        "id": "h3HpqagCk4L2",
        "colab": {
          "base_uri": "https://localhost:8080/",
          "height": 143
        },
        "outputId": "e9e4567c-3cd5-4399-dfb1-b6779d5309c2"
      },
      "source": [
        "df = pd.DataFrame('suven', index=range(3), columns=list('abcde'))\n",
        "df"
      ],
      "execution_count": null,
      "outputs": [
        {
          "output_type": "execute_result",
          "data": {
            "text/html": [
              "<div>\n",
              "<style scoped>\n",
              "    .dataframe tbody tr th:only-of-type {\n",
              "        vertical-align: middle;\n",
              "    }\n",
              "\n",
              "    .dataframe tbody tr th {\n",
              "        vertical-align: top;\n",
              "    }\n",
              "\n",
              "    .dataframe thead th {\n",
              "        text-align: right;\n",
              "    }\n",
              "</style>\n",
              "<table border=\"1\" class=\"dataframe\">\n",
              "  <thead>\n",
              "    <tr style=\"text-align: right;\">\n",
              "      <th></th>\n",
              "      <th>a</th>\n",
              "      <th>b</th>\n",
              "      <th>c</th>\n",
              "      <th>d</th>\n",
              "      <th>e</th>\n",
              "    </tr>\n",
              "  </thead>\n",
              "  <tbody>\n",
              "    <tr>\n",
              "      <th>0</th>\n",
              "      <td>suven</td>\n",
              "      <td>suven</td>\n",
              "      <td>suven</td>\n",
              "      <td>suven</td>\n",
              "      <td>suven</td>\n",
              "    </tr>\n",
              "    <tr>\n",
              "      <th>1</th>\n",
              "      <td>suven</td>\n",
              "      <td>suven</td>\n",
              "      <td>suven</td>\n",
              "      <td>suven</td>\n",
              "      <td>suven</td>\n",
              "    </tr>\n",
              "    <tr>\n",
              "      <th>2</th>\n",
              "      <td>suven</td>\n",
              "      <td>suven</td>\n",
              "      <td>suven</td>\n",
              "      <td>suven</td>\n",
              "      <td>suven</td>\n",
              "    </tr>\n",
              "  </tbody>\n",
              "</table>\n",
              "</div>"
            ],
            "text/plain": [
              "       a      b      c      d      e\n",
              "0  suven  suven  suven  suven  suven\n",
              "1  suven  suven  suven  suven  suven\n",
              "2  suven  suven  suven  suven  suven"
            ]
          },
          "metadata": {
            "tags": []
          },
          "execution_count": 11
        }
      ]
    },
    {
      "cell_type": "code",
      "metadata": {
        "id": "PzuiFCeQk9Ft",
        "colab": {
          "base_uri": "https://localhost:8080/",
          "height": 143
        },
        "outputId": "508addd7-5b35-479f-da80-712a5fdb5456"
      },
      "source": [
        "## The following methods all work and produce the same output:\n",
        "df2 = df.rename({'a': 'X', 'b': 'Y'}, axis=1)  # newer approach, common nowadays\n",
        "\n",
        "## df2 = df.rename({'a': 'X', 'b': 'Y'}, axis='columns')\n",
        "\n",
        "## df2 = df.rename(columns={'a': 'X', 'b': 'Y'})  # old method  \n",
        "\n",
        "df2\n",
        "\n",
        "## Note : for inplace changes =>  df.rename({'a': 'X', 'b': 'Y'}, axis=1, inplace=True)"
      ],
      "execution_count": null,
      "outputs": [
        {
          "output_type": "execute_result",
          "data": {
            "text/html": [
              "<div>\n",
              "<style scoped>\n",
              "    .dataframe tbody tr th:only-of-type {\n",
              "        vertical-align: middle;\n",
              "    }\n",
              "\n",
              "    .dataframe tbody tr th {\n",
              "        vertical-align: top;\n",
              "    }\n",
              "\n",
              "    .dataframe thead th {\n",
              "        text-align: right;\n",
              "    }\n",
              "</style>\n",
              "<table border=\"1\" class=\"dataframe\">\n",
              "  <thead>\n",
              "    <tr style=\"text-align: right;\">\n",
              "      <th></th>\n",
              "      <th>X</th>\n",
              "      <th>Y</th>\n",
              "      <th>c</th>\n",
              "      <th>d</th>\n",
              "      <th>e</th>\n",
              "    </tr>\n",
              "  </thead>\n",
              "  <tbody>\n",
              "    <tr>\n",
              "      <th>0</th>\n",
              "      <td>suven</td>\n",
              "      <td>suven</td>\n",
              "      <td>suven</td>\n",
              "      <td>suven</td>\n",
              "      <td>suven</td>\n",
              "    </tr>\n",
              "    <tr>\n",
              "      <th>1</th>\n",
              "      <td>suven</td>\n",
              "      <td>suven</td>\n",
              "      <td>suven</td>\n",
              "      <td>suven</td>\n",
              "      <td>suven</td>\n",
              "    </tr>\n",
              "    <tr>\n",
              "      <th>2</th>\n",
              "      <td>suven</td>\n",
              "      <td>suven</td>\n",
              "      <td>suven</td>\n",
              "      <td>suven</td>\n",
              "      <td>suven</td>\n",
              "    </tr>\n",
              "  </tbody>\n",
              "</table>\n",
              "</div>"
            ],
            "text/plain": [
              "       X      Y      c      d      e\n",
              "0  suven  suven  suven  suven  suven\n",
              "1  suven  suven  suven  suven  suven\n",
              "2  suven  suven  suven  suven  suven"
            ]
          },
          "metadata": {
            "tags": []
          },
          "execution_count": 12
        }
      ]
    },
    {
      "cell_type": "markdown",
      "metadata": {
        "id": "Ej7DWDaYnbXV"
      },
      "source": [
        "rename_axis() : Alter the name of the index or columns\n",
        "--\n",
        "The **rename_axis()** function is used to set the name of the axis for the index or columns."
      ]
    },
    {
      "cell_type": "code",
      "metadata": {
        "id": "rNAUZHPIpUbt",
        "colab": {
          "base_uri": "https://localhost:8080/"
        },
        "outputId": "b06045da-c871-4ef6-f721-0e4b666188e9"
      },
      "source": [
        "## creating a dummy dataframe\n",
        "\n",
        "df = pd.DataFrame({\"A\": [1, 2, 3], \"B\": [4, 5, 6]})\n",
        "print(df)\n",
        "\n",
        "print(\"------------------------------------\")\n",
        "\n",
        "df.rename_axis(\"numbers\", inplace=True)\n",
        "print(df)\n",
        "\n",
        "print(\"------------------------------------\")\n",
        "\n",
        "df.rename_axis(\"bar\", axis=\"columns\", inplace=True)\n",
        "print(df)"
      ],
      "execution_count": null,
      "outputs": [
        {
          "output_type": "stream",
          "text": [
            "   A  B\n",
            "0  1  4\n",
            "1  2  5\n",
            "2  3  6\n",
            "------------------------------------\n",
            "         A  B\n",
            "numbers      \n",
            "0        1  4\n",
            "1        2  5\n",
            "2        3  6\n",
            "------------------------------------\n",
            "bar      A  B\n",
            "numbers      \n",
            "0        1  4\n",
            "1        2  5\n",
            "2        3  6\n"
          ],
          "name": "stdout"
        }
      ]
    },
    {
      "cell_type": "markdown",
      "metadata": {
        "id": "LJ7XsCLhqLl6"
      },
      "source": [
        "<font color='red'> Caution : rename_axis() is deprecated and will be removed in a future version. Use rename instead. </font>"
      ]
    },
    {
      "cell_type": "markdown",
      "metadata": {
        "id": "Eh6v-pIcsdsj"
      },
      "source": [
        "**Combining**\n",
        "--\n",
        "\n",
        "When performing operations on a dataset, we will sometimes need to combine different DataFrames and/or Series in non-trivial ways. Pandas has three core methods for doing this. In order of increasing complexity, these are **concat(), join(), and merge()**. Most of what merge() can do can also be done more simply with join(), so we will omit it and focus on the first two functions here.\n",
        "\n",
        "The simplest combining method is **concat()**. Given a list of elements, this function will smush those elements together along an axis."
      ]
    },
    {
      "cell_type": "code",
      "metadata": {
        "id": "2YbimBn4t7yv",
        "colab": {
          "base_uri": "https://localhost:8080/"
        },
        "outputId": "d15315d4-dbd5-4f94-dd1a-9e8e03bb0357"
      },
      "source": [
        "## Combine two DataFrame objects with identical columns.\n",
        "\n",
        "df1 = pd.DataFrame([['a', 1], ['b', 2]], columns=['letter', 'number'])\n",
        "print(df1)\n",
        "\n",
        "print(\"--------------------\")\n",
        "\n",
        "df2 = pd.DataFrame([['c', 3], ['d', 4]], columns=['letter', 'number'])\n",
        "print(df2)\n",
        "\n",
        "print(\"--------------------\")\n",
        "\n",
        "newdf1 = pd.concat([df1, df2])   ## default axis = 0 , i.e concat happens columnwise\n",
        "## Use .reset_index() to reset the index from 0 onwards\n",
        "newdf1 = pd.concat([df1, df2]).reset_index()\n",
        "print(newdf1)\n",
        "\n",
        "print(\"--------------------\")\n",
        "\n",
        "newdf2 = pd.concat([df1, df2], axis=1)   ## Combine DataFrame objects horizontally along the x axis \n",
        "print(newdf2)"
      ],
      "execution_count": null,
      "outputs": [
        {
          "output_type": "stream",
          "text": [
            "  letter  number\n",
            "0      a       1\n",
            "1      b       2\n",
            "--------------------\n",
            "  letter  number\n",
            "0      c       3\n",
            "1      d       4\n",
            "--------------------\n",
            "   index letter  number\n",
            "0      0      a       1\n",
            "1      1      b       2\n",
            "2      0      c       3\n",
            "3      1      d       4\n",
            "--------------------\n",
            "  letter  number letter  number\n",
            "0      a       1      c       3\n",
            "1      b       2      d       4\n"
          ],
          "name": "stdout"
        }
      ]
    },
    {
      "cell_type": "markdown",
      "metadata": {
        "id": "rd8ch51AxX12"
      },
      "source": [
        "Joining on index\n",
        "--\n",
        "\n",
        "**DataFrame.join()** is a convenient method for combining the columns of two potentially differently-indexed DataFrames into a single result DataFrame. Here is a **`very basic example`**:"
      ]
    },
    {
      "cell_type": "code",
      "metadata": {
        "id": "Z7h0sy5fxgB3",
        "colab": {
          "base_uri": "https://localhost:8080/"
        },
        "outputId": "1ef84304-bd67-4074-e9a2-e5e01c9592bd"
      },
      "source": [
        "left = pd.DataFrame({'A': ['A0', 'A1', 'A2'], 'B': ['B0', 'B1', 'B2']}, index=['K0', 'K1', 'K2'])\n",
        "print(left)\n",
        "\n",
        "right = pd.DataFrame({'C': ['C0', 'C2', 'C3'], 'D': ['D0', 'D2', 'D3']}, index=['K0', 'K2', 'K3'])\n",
        "print(right)\n",
        "\n",
        "print(\"----default is left Join clause--------\")\n",
        "result = left.join(right)  ## result = left.join(right, how='left')\n",
        "print(result)\n",
        "print(\"----------try how='inner' join --------\")\n",
        "result = left.join(right, how='inner')   ## Strictly only common columns\n",
        "print(result)\n",
        "print(\"----------try how='outer' --------\")\n",
        "result = left.join(right, how='outer')   ## default o/p + non-matching index\n",
        "print(result)\n",
        "print(\"----------try how='right' --------\")\n",
        "result = left.join(right, how='right')   ## taking the indexes of the rgt table\n",
        "print(result)"
      ],
      "execution_count": null,
      "outputs": [
        {
          "output_type": "stream",
          "text": [
            "     A   B\n",
            "K0  A0  B0\n",
            "K1  A1  B1\n",
            "K2  A2  B2\n",
            "     C   D\n",
            "K0  C0  D0\n",
            "K2  C2  D2\n",
            "K3  C3  D3\n",
            "----default is left Join clause--------\n",
            "     A   B    C    D\n",
            "K0  A0  B0   C0   D0\n",
            "K1  A1  B1  NaN  NaN\n",
            "K2  A2  B2   C2   D2\n",
            "----------try how='inner' join --------\n",
            "     A   B   C   D\n",
            "K0  A0  B0  C0  D0\n",
            "K2  A2  B2  C2  D2\n",
            "----------try how='outer' --------\n",
            "      A    B    C    D\n",
            "K0   A0   B0   C0   D0\n",
            "K1   A1   B1  NaN  NaN\n",
            "K2   A2   B2   C2   D2\n",
            "K3  NaN  NaN   C3   D3\n",
            "----------try how='right' --------\n",
            "      A    B   C   D\n",
            "K0   A0   B0  C0  D0\n",
            "K2   A2   B2  C2  D2\n",
            "K3  NaN  NaN  C3  D3\n"
          ],
          "name": "stdout"
        }
      ]
    },
    {
      "cell_type": "code",
      "metadata": {
        "id": "KQdParq5ec6Z",
        "colab": {
          "base_uri": "https://localhost:8080/"
        },
        "outputId": "519ec738-c55d-4bac-a500-3bd6f16bcc80"
      },
      "source": [
        "## What if our dataframes have few matching columnNames ??\n",
        "## The lsuffix and rsuffix parameters are necessary here because the data has the same column names in both.\n",
        "leftCommon = pd.DataFrame({'A': ['A0', 'A1', 'A2'], 'B': ['B0', 'B1', 'B2']}, index=['K0', 'K1', 'K2'])\n",
        "print(leftCommon)\n",
        "\n",
        "rightCommon = pd.DataFrame({'A': ['A4', 'A5', 'A6'], 'D': ['D0', 'D2', 'D3']}, index=['K0', 'K2', 'K3'])\n",
        "print(rightCommon)\n",
        "\n",
        "resultCommon = leftCommon.join(rightCommon, lsuffix='_Left', rsuffix='_Rgt')\n",
        "print(resultCommon)\n",
        "\n",
        "## U can try , if you don't put lsuffix='_Left', rsuffix='_Rgt' parameters\n",
        "## resultCommon_1 = leftCommon.join(rightCommon)\n",
        "## print(resultCommon_1)"
      ],
      "execution_count": null,
      "outputs": [
        {
          "output_type": "stream",
          "text": [
            "     A   B\n",
            "K0  A0  B0\n",
            "K1  A1  B1\n",
            "K2  A2  B2\n",
            "     A   D\n",
            "K0  A4  D0\n",
            "K2  A5  D2\n",
            "K3  A6  D3\n",
            "   A_Left   B A_Rgt    D\n",
            "K0     A0  B0    A4   D0\n",
            "K1     A1  B1   NaN  NaN\n",
            "K2     A2  B2    A5   D2\n"
          ],
          "name": "stdout"
        }
      ]
    },
    {
      "cell_type": "markdown",
      "metadata": {
        "id": "Y8xdGB_qxiWr"
      },
      "source": [
        "<h3> <font color='red'> Question Time ( Solve all Qns in 15 mins )</h3>\n",
        "<hr>\n",
        "\n",
        "1. I have three dataframes. Their shapes are (2656, 246), (2656, 2412) and (2656, 7025). I want to merge the dataframes. I know, it will result in a resultant (2656, 9683) Dataframe.\n",
        "\n",
        "<pre> Hint : 246+2412+7025 = 9683 </pre>"
      ]
    },
    {
      "cell_type": "markdown",
      "metadata": {
        "id": "34fRKOm22rki"
      },
      "source": [
        "**Ans to Q1**\n",
        "\n",
        "<pre>\n",
        "Assuming that the rows are in same order that you wish to merge all of the dataframes, \n",
        "you can use the <b>concat</b> command specificying axis=1.\n",
        "\n",
        "new_df = pd.concat([df1, df2, df3], axis=1)\n",
        "\n",
        "If the row index for each of the data frames are different and you want to merge them in the current order, \n",
        "you can also apply <b>ignore_index</b>:\n",
        "\n",
        "new_df = pd.concat([df1, df2, df3], ignore_index=True)\n",
        "</pre>\n",
        "\n",
        "**Each Student is expected to create some dummy df's with (2,3), (2,4), (2,2) dimensions respectively and check my answers** "
      ]
    },
    {
      "cell_type": "code",
      "metadata": {
        "id": "Q81P49lup78U",
        "colab": {
          "base_uri": "https://localhost:8080/"
        },
        "outputId": "26691280-9258-4a75-f3de-6fc518deefa2"
      },
      "source": [
        "## Space to try out the above : new_df = pd.concat([df1, df2, df3], ignore_index=True)\n",
        "df1 = pd.DataFrame({'A': ['A0', 'A1'], 'B': ['B0', 'B1'], 'C': ['C0', 'C1']}, index=['0', '1'])\n",
        "print(df1)\n",
        "print('-----------------------')\n",
        "df2 = pd.DataFrame({'A': ['A0', 'A1'], 'B': ['B0', 'B1'], 'C': ['C0', 'C1'], 'D': ['D0', 'D1']}, index=['0', '1'])\n",
        "print(df2)\n",
        "print('-----------------------')\n",
        "df3 = pd.DataFrame({'A': ['A0', 'A1'], 'B': ['B0', 'B1']}, index=['0', '1'])\n",
        "print(df3)\n",
        "print('-----------------------')\n",
        "print(pd.concat([df1, df2, df3], axis=1))\n",
        "print('-----------------------')\n",
        "new_df = pd.concat([df1, df2, df3], ignore_index=True)\n",
        "print(new_df)"
      ],
      "execution_count": null,
      "outputs": [
        {
          "output_type": "stream",
          "text": [
            "    A   B   C\n",
            "0  A0  B0  C0\n",
            "1  A1  B1  C1\n",
            "-----------------------\n",
            "    A   B   C   D\n",
            "0  A0  B0  C0  D0\n",
            "1  A1  B1  C1  D1\n",
            "-----------------------\n",
            "    A   B\n",
            "0  A0  B0\n",
            "1  A1  B1\n",
            "-----------------------\n",
            "    A   B   C   A   B   C   D   A   B\n",
            "0  A0  B0  C0  A0  B0  C0  D0  A0  B0\n",
            "1  A1  B1  C1  A1  B1  C1  D1  A1  B1\n",
            "-----------------------\n",
            "    A   B    C    D\n",
            "0  A0  B0   C0  NaN\n",
            "1  A1  B1   C1  NaN\n",
            "2  A0  B0   C0   D0\n",
            "3  A1  B1   C1   D1\n",
            "4  A0  B0  NaN  NaN\n",
            "5  A1  B1  NaN  NaN\n"
          ],
          "name": "stdout"
        }
      ]
    },
    {
      "cell_type": "markdown",
      "metadata": {
        "id": "h9-CDcEg6Z8K"
      },
      "source": [
        "2. Given this df :\n",
        "<pre>\n",
        "df = pd.DataFrame({'age':[24, 20, 19],\n",
        "                       'color':['blue', 'green', 'red'],\n",
        "                       'food':['Dal-Khichdi', 'Chicken', 'Eggs'],\n",
        "                       'height':[165, 170, 120],\n",
        "                       'score':[8.6, 8.3, 9.0],\n",
        "                       'state':['NAGPUR', 'CANADA', 'MUMBAI']},\n",
        "                       index = ['Ankita', 'Hammad', 'Aden']) </pre>\n",
        "\n",
        "<font color='darkgreen'><b>Get me this o/p :</b></font>\n",
        "\n",
        "<img src= 'https://drive.google.com/uc?id=1YDBcasiBAop-0kiFuaBVmYk1cN_9Lzgy' />"
      ]
    },
    {
      "cell_type": "code",
      "metadata": {
        "id": "74znl3BN80Q0",
        "colab": {
          "base_uri": "https://localhost:8080/"
        },
        "outputId": "65d413d1-e0d9-48ad-c2e8-22d9ca7348a3"
      },
      "source": [
        "## creating the above dummy dataframe\n",
        "df = pd.DataFrame({'age':[24, 20, 19],\n",
        "                    'color':['blue', 'green', 'red'],\n",
        "                    'food':['Dal-Khichdi', 'Chicken', 'Eggs'],\n",
        "                    'height':[165, 170, 120],\n",
        "                    'score':[8.6, 8.3, 9.0],\n",
        "                    'state':['MH', 'Alberta', 'MH']},\n",
        "                    index = ['Ankita', 'Hammad', 'Aden']) \n",
        "\n",
        "## Hint : use rename_axis twice\n",
        "\n",
        "df.rename_axis(\"axis1\", inplace=True)\n",
        "print(df)\n",
        "\n",
        "print(\"------------------------------------\")\n",
        "\n",
        "df.rename_axis(\"axis2\", axis=\"columns\", inplace=True)\n",
        "print(df)"
      ],
      "execution_count": null,
      "outputs": [
        {
          "output_type": "stream",
          "text": [
            "        age  color         food  height  score    state\n",
            "axis1                                                  \n",
            "Ankita   24   blue  Dal-Khichdi     165    8.6       MH\n",
            "Hammad   20  green      Chicken     170    8.3  Alberta\n",
            "Aden     19    red         Eggs     120    9.0       MH\n",
            "------------------------------------\n",
            "axis2   age  color         food  height  score    state\n",
            "axis1                                                  \n",
            "Ankita   24   blue  Dal-Khichdi     165    8.6       MH\n",
            "Hammad   20  green      Chicken     170    8.3  Alberta\n",
            "Aden     19    red         Eggs     120    9.0       MH\n"
          ],
          "name": "stdout"
        }
      ]
    },
    {
      "cell_type": "markdown",
      "metadata": {
        "id": "L7GroZkU-djS"
      },
      "source": [
        "3. Reuse the above df and **get me the following o/p**:\n",
        "\n",
        "<img src='https://drive.google.com/uc?id=1rV0wf9CXLtr6ytx5ql5tv-Vkejitqx3l' />\n"
      ]
    },
    {
      "cell_type": "code",
      "metadata": {
        "id": "xHCfShmm-jpd",
        "colab": {
          "base_uri": "https://localhost:8080/",
          "height": 175
        },
        "outputId": "759c55d1-49a3-482a-f249-50fdc70039b9"
      },
      "source": [
        "## Note (from the o/p image) the index has been changed.\n",
        "## previously we had 'names' as the index. We are replacing it with 2 indexes.\n",
        "## If a dataframe is indexed by more than 2 indexes then its called multi-index\n",
        "## Hint : use set_index()  \n",
        "df = pd.DataFrame({'age':[24, 20, 19],\n",
        "                    'color':['blue', 'green', 'red'],\n",
        "                    'food':['Dal-Khichdi', 'Chicken', 'Eggs'],\n",
        "                    'height':[165, 170, 120],\n",
        "                    'score':[8.6, 8.3, 9.0],\n",
        "                    'state':['MH', 'Alberta', 'MH']},\n",
        "                    index = ['Ankita', 'Hammad', 'Aden'])\n",
        "df1 = df.set_index(['state', 'color'])\n",
        "df1"
      ],
      "execution_count": null,
      "outputs": [
        {
          "output_type": "execute_result",
          "data": {
            "text/html": [
              "<div>\n",
              "<style scoped>\n",
              "    .dataframe tbody tr th:only-of-type {\n",
              "        vertical-align: middle;\n",
              "    }\n",
              "\n",
              "    .dataframe tbody tr th {\n",
              "        vertical-align: top;\n",
              "    }\n",
              "\n",
              "    .dataframe thead th {\n",
              "        text-align: right;\n",
              "    }\n",
              "</style>\n",
              "<table border=\"1\" class=\"dataframe\">\n",
              "  <thead>\n",
              "    <tr style=\"text-align: right;\">\n",
              "      <th></th>\n",
              "      <th></th>\n",
              "      <th>age</th>\n",
              "      <th>food</th>\n",
              "      <th>height</th>\n",
              "      <th>score</th>\n",
              "    </tr>\n",
              "    <tr>\n",
              "      <th>state</th>\n",
              "      <th>color</th>\n",
              "      <th></th>\n",
              "      <th></th>\n",
              "      <th></th>\n",
              "      <th></th>\n",
              "    </tr>\n",
              "  </thead>\n",
              "  <tbody>\n",
              "    <tr>\n",
              "      <th>MH</th>\n",
              "      <th>blue</th>\n",
              "      <td>24</td>\n",
              "      <td>Dal-Khichdi</td>\n",
              "      <td>165</td>\n",
              "      <td>8.6</td>\n",
              "    </tr>\n",
              "    <tr>\n",
              "      <th>Alberta</th>\n",
              "      <th>green</th>\n",
              "      <td>20</td>\n",
              "      <td>Chicken</td>\n",
              "      <td>170</td>\n",
              "      <td>8.3</td>\n",
              "    </tr>\n",
              "    <tr>\n",
              "      <th>MH</th>\n",
              "      <th>red</th>\n",
              "      <td>19</td>\n",
              "      <td>Eggs</td>\n",
              "      <td>120</td>\n",
              "      <td>9.0</td>\n",
              "    </tr>\n",
              "  </tbody>\n",
              "</table>\n",
              "</div>"
            ],
            "text/plain": [
              "               age         food  height  score\n",
              "state   color                                 \n",
              "MH      blue    24  Dal-Khichdi     165    8.6\n",
              "Alberta green   20      Chicken     170    8.3\n",
              "MH      red     19         Eggs     120    9.0"
            ]
          },
          "metadata": {
            "tags": []
          },
          "execution_count": 35
        }
      ]
    },
    {
      "cell_type": "markdown",
      "metadata": {
        "id": "P7G6fNFf_8nO"
      },
      "source": [
        "4. Reuse the above orginal df and **get me the following o/p**:\n",
        "\n",
        "<img src='https://drive.google.com/uc?id=1it8aUlrU8yebTYsNnAlLw0-iksCF1VKq' />"
      ]
    },
    {
      "cell_type": "code",
      "metadata": {
        "id": "fC9s5sx5AGK8",
        "colab": {
          "base_uri": "https://localhost:8080/",
          "height": 175
        },
        "outputId": "a871a9fa-1c63-42a9-d20a-13c5eefa3d2f"
      },
      "source": [
        "## Notice , we are setting multiple indexes as from Q3.\n",
        "## But in this above o/p we want the orginal index also\n",
        "## Hint : use append=True  option in set_index()\n",
        "\n",
        "df = pd.DataFrame({'age':[24, 20, 19],\n",
        "                    'color':['blue', 'green', 'red'],\n",
        "                    'food':['Dal-Khichdi', 'Chicken', 'Eggs'],\n",
        "                    'height':[165, 170, 120],\n",
        "                    'score':[8.6, 8.3, 9.0],\n",
        "                    'state':['MH', 'Alberta', 'MH']},\n",
        "                    index = ['Ankita', 'Hammad', 'Aden'])\n",
        "df1 = df.set_index(['state', 'color'],append=True)\n",
        "df1"
      ],
      "execution_count": null,
      "outputs": [
        {
          "output_type": "execute_result",
          "data": {
            "text/html": [
              "<div>\n",
              "<style scoped>\n",
              "    .dataframe tbody tr th:only-of-type {\n",
              "        vertical-align: middle;\n",
              "    }\n",
              "\n",
              "    .dataframe tbody tr th {\n",
              "        vertical-align: top;\n",
              "    }\n",
              "\n",
              "    .dataframe thead th {\n",
              "        text-align: right;\n",
              "    }\n",
              "</style>\n",
              "<table border=\"1\" class=\"dataframe\">\n",
              "  <thead>\n",
              "    <tr style=\"text-align: right;\">\n",
              "      <th></th>\n",
              "      <th></th>\n",
              "      <th></th>\n",
              "      <th>age</th>\n",
              "      <th>food</th>\n",
              "      <th>height</th>\n",
              "      <th>score</th>\n",
              "    </tr>\n",
              "    <tr>\n",
              "      <th></th>\n",
              "      <th>state</th>\n",
              "      <th>color</th>\n",
              "      <th></th>\n",
              "      <th></th>\n",
              "      <th></th>\n",
              "      <th></th>\n",
              "    </tr>\n",
              "  </thead>\n",
              "  <tbody>\n",
              "    <tr>\n",
              "      <th>Ankita</th>\n",
              "      <th>MH</th>\n",
              "      <th>blue</th>\n",
              "      <td>24</td>\n",
              "      <td>Dal-Khichdi</td>\n",
              "      <td>165</td>\n",
              "      <td>8.6</td>\n",
              "    </tr>\n",
              "    <tr>\n",
              "      <th>Hammad</th>\n",
              "      <th>Alberta</th>\n",
              "      <th>green</th>\n",
              "      <td>20</td>\n",
              "      <td>Chicken</td>\n",
              "      <td>170</td>\n",
              "      <td>8.3</td>\n",
              "    </tr>\n",
              "    <tr>\n",
              "      <th>Aden</th>\n",
              "      <th>MH</th>\n",
              "      <th>red</th>\n",
              "      <td>19</td>\n",
              "      <td>Eggs</td>\n",
              "      <td>120</td>\n",
              "      <td>9.0</td>\n",
              "    </tr>\n",
              "  </tbody>\n",
              "</table>\n",
              "</div>"
            ],
            "text/plain": [
              "                      age         food  height  score\n",
              "       state   color                                 \n",
              "Ankita MH      blue    24  Dal-Khichdi     165    8.6\n",
              "Hammad Alberta green   20      Chicken     170    8.3\n",
              "Aden   MH      red     19         Eggs     120    9.0"
            ]
          },
          "metadata": {
            "tags": []
          },
          "execution_count": 38
        }
      ]
    },
    {
      "cell_type": "markdown",
      "metadata": {
        "id": "FUUsaXlKC-tp"
      },
      "source": [
        "5. Notice how the original index has **no name**. Can you use **rename_axis** and pass it a list of the same length as the number of index levels, for **re-naming** all indexes.\n",
        "\n",
        "I **want some o/p** like this :\n",
        "\n",
        "<img src = 'https://drive.google.com/uc?id=17AX_Iyb1aFETkhxZ_vowvw0H_wnNLAAP' />"
      ]
    },
    {
      "cell_type": "code",
      "metadata": {
        "id": "4ePlqzqBDhtZ",
        "colab": {
          "base_uri": "https://localhost:8080/",
          "height": 175
        },
        "outputId": "ed106392-0444-4a1b-80a7-46099160a0d6"
      },
      "source": [
        "## Remember : renaming multi-index dataframes , always specify a list.\n",
        "## If u want to un-name a column then use None\n",
        "df = pd.DataFrame({'age':[24, 20, 19],\n",
        "                    'color':['blue', 'green', 'red'],\n",
        "                    'food':['Dal-Khichdi', 'Chicken', 'Eggs'],\n",
        "                    'height':[165, 170, 120],\n",
        "                    'score':[8.6, 8.3, 9.0],\n",
        "                    'state':['MH', 'Alberta', 'MH']},\n",
        "                    index = ['Ankita', 'Hammad', 'Aden'])\n",
        "df = df.set_index(['state', 'color'],append=True)\n",
        "df1 = df.rename_axis([\"Names\", None, \"Colours\"])\n",
        "df1"
      ],
      "execution_count": null,
      "outputs": [
        {
          "output_type": "execute_result",
          "data": {
            "text/html": [
              "<div>\n",
              "<style scoped>\n",
              "    .dataframe tbody tr th:only-of-type {\n",
              "        vertical-align: middle;\n",
              "    }\n",
              "\n",
              "    .dataframe tbody tr th {\n",
              "        vertical-align: top;\n",
              "    }\n",
              "\n",
              "    .dataframe thead th {\n",
              "        text-align: right;\n",
              "    }\n",
              "</style>\n",
              "<table border=\"1\" class=\"dataframe\">\n",
              "  <thead>\n",
              "    <tr style=\"text-align: right;\">\n",
              "      <th></th>\n",
              "      <th></th>\n",
              "      <th></th>\n",
              "      <th>age</th>\n",
              "      <th>food</th>\n",
              "      <th>height</th>\n",
              "      <th>score</th>\n",
              "    </tr>\n",
              "    <tr>\n",
              "      <th>Names</th>\n",
              "      <th></th>\n",
              "      <th>Colours</th>\n",
              "      <th></th>\n",
              "      <th></th>\n",
              "      <th></th>\n",
              "      <th></th>\n",
              "    </tr>\n",
              "  </thead>\n",
              "  <tbody>\n",
              "    <tr>\n",
              "      <th>Ankita</th>\n",
              "      <th>MH</th>\n",
              "      <th>blue</th>\n",
              "      <td>24</td>\n",
              "      <td>Dal-Khichdi</td>\n",
              "      <td>165</td>\n",
              "      <td>8.6</td>\n",
              "    </tr>\n",
              "    <tr>\n",
              "      <th>Hammad</th>\n",
              "      <th>Alberta</th>\n",
              "      <th>green</th>\n",
              "      <td>20</td>\n",
              "      <td>Chicken</td>\n",
              "      <td>170</td>\n",
              "      <td>8.3</td>\n",
              "    </tr>\n",
              "    <tr>\n",
              "      <th>Aden</th>\n",
              "      <th>MH</th>\n",
              "      <th>red</th>\n",
              "      <td>19</td>\n",
              "      <td>Eggs</td>\n",
              "      <td>120</td>\n",
              "      <td>9.0</td>\n",
              "    </tr>\n",
              "  </tbody>\n",
              "</table>\n",
              "</div>"
            ],
            "text/plain": [
              "                        age         food  height  score\n",
              "Names          Colours                                 \n",
              "Ankita MH      blue      24  Dal-Khichdi     165    8.6\n",
              "Hammad Alberta green     20      Chicken     170    8.3\n",
              "Aden   MH      red       19         Eggs     120    9.0"
            ]
          },
          "metadata": {
            "tags": []
          },
          "execution_count": 41
        }
      ]
    },
    {
      "cell_type": "markdown",
      "metadata": {
        "id": "UVgbAnFePOtP"
      },
      "source": [
        "<hr>\n",
        "\n",
        "<small>The study content is prepared by Rocky Jagtiani ( https://linkedin.com/in/rocky-jagtiani-3b390649/) - <b>rocky@suvenconsultants.com</b> </small>\n",
        "\n",
        "<img src =\"https://drive.google.com/uc?id=1-y7gMwSV7--Bu6Y-piHkdhIrjEkeZFQW\"  width = '150px' />\n",
        "\n",
        "\n",
        "\n",
        "<small><b>Copying this material is prohibited and needs prior permission from the Author & the Management of https://www.suvenconsultants.com/  </b></small>\n",
        "\n",
        "<hr>"
      ]
    },
    {
      "cell_type": "markdown",
      "metadata": {
        "id": "0J8rc1mEPSrc"
      },
      "source": [
        "Thank you for going through the Notebook. I am sure it was a fruitful learning exprience. Even you can earn your **`\"Masters in Data Science\"`** certification followed with Internships and Placement calls. Do look at https://datascience.suvenconsultants.com for Online live classroom training programmes from <u>Rocky Sir & his team of data scientist </u>.\n",
        "\n",
        "![CertificationPic_In_the_NB](https://drive.google.com/uc?id=1SB127ve_Cl21hQxuC2odVZHvjGFmu_G1)"
      ]
    }
  ]
}