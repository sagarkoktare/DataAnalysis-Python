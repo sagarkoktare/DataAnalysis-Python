{
 "cells": [
  {
   "cell_type": "markdown",
   "id": "05ca0e8a",
   "metadata": {},
   "source": [
    "# Tuples"
   ]
  },
  {
   "cell_type": "markdown",
   "id": "8016c8c1",
   "metadata": {},
   "source": [
    "#### 1. Lists has mixed data types\n",
    "#### 2. Lists may have repetatitve elements\n",
    "#### 3. Preserves the order\n",
    "#### 4. immutable - difference as compare to Lists"
   ]
  },
  {
   "cell_type": "code",
   "execution_count": 2,
   "id": "e4944525",
   "metadata": {},
   "outputs": [],
   "source": [
    "a = (0,1,1+2j,'tuples')"
   ]
  },
  {
   "cell_type": "code",
   "execution_count": 5,
   "id": "75889926",
   "metadata": {},
   "outputs": [
    {
     "data": {
      "text/plain": [
       "1"
      ]
     },
     "execution_count": 5,
     "metadata": {},
     "output_type": "execute_result"
    }
   ],
   "source": [
    "a[1] #Accessing a tuple with an index"
   ]
  },
  {
   "cell_type": "code",
   "execution_count": 4,
   "id": "99e26298",
   "metadata": {},
   "outputs": [
    {
     "ename": "TypeError",
     "evalue": "'tuple' object does not support item assignment",
     "output_type": "error",
     "traceback": [
      "\u001b[1;31m---------------------------------------------------------------------------\u001b[0m",
      "\u001b[1;31mTypeError\u001b[0m                                 Traceback (most recent call last)",
      "\u001b[1;32m~\\AppData\\Local\\Temp\\ipykernel_11840\\2088648011.py\u001b[0m in \u001b[0;36m<module>\u001b[1;34m\u001b[0m\n\u001b[1;32m----> 1\u001b[1;33m \u001b[0ma\u001b[0m\u001b[1;33m[\u001b[0m\u001b[1;36m0\u001b[0m\u001b[1;33m]\u001b[0m\u001b[1;33m=\u001b[0m\u001b[1;36m1\u001b[0m\u001b[1;33m\u001b[0m\u001b[1;33m\u001b[0m\u001b[0m\n\u001b[0m",
      "\u001b[1;31mTypeError\u001b[0m: 'tuple' object does not support item assignment"
     ]
    }
   ],
   "source": [
    "a[0]=1 #Trying to modify a tuple"
   ]
  },
  {
   "cell_type": "code",
   "execution_count": 6,
   "id": "9f924f40",
   "metadata": {},
   "outputs": [],
   "source": [
    "a = (0,1,[1,2,3],4)\n",
    "# don't insert list inside a tuple, which altogether kills purpose of using tuple, \n",
    "# because it becomes mutable once we insert list inside tuples"
   ]
  },
  {
   "cell_type": "code",
   "execution_count": 10,
   "id": "f523892f",
   "metadata": {},
   "outputs": [],
   "source": [
    "a[2][2]=6"
   ]
  },
  {
   "cell_type": "code",
   "execution_count": 11,
   "id": "674df363",
   "metadata": {},
   "outputs": [
    {
     "data": {
      "text/plain": [
       "(0, 1, [1, 2, 6], 4)"
      ]
     },
     "execution_count": 11,
     "metadata": {},
     "output_type": "execute_result"
    }
   ],
   "source": [
    "a"
   ]
  },
  {
   "cell_type": "code",
   "execution_count": null,
   "id": "87705f60",
   "metadata": {},
   "outputs": [],
   "source": []
  }
 ],
 "metadata": {
  "kernelspec": {
   "display_name": "Python 3 (ipykernel)",
   "language": "python",
   "name": "python3"
  },
  "language_info": {
   "codemirror_mode": {
    "name": "ipython",
    "version": 3
   },
   "file_extension": ".py",
   "mimetype": "text/x-python",
   "name": "python",
   "nbconvert_exporter": "python",
   "pygments_lexer": "ipython3",
   "version": "3.9.13"
  }
 },
 "nbformat": 4,
 "nbformat_minor": 5
}
