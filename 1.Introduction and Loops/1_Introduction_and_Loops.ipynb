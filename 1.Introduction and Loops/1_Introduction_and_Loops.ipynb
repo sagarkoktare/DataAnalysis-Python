{
  "nbformat": 4,
  "nbformat_minor": 0,
  "metadata": {
    "colab": {
      "name": "1.Introduction and Loops.ipynb",
      "provenance": [],
      "collapsed_sections": []
    },
    "kernelspec": {
      "name": "python3",
      "display_name": "Python 3"
    }
  },
  "cells": [
    {
      "cell_type": "code",
      "metadata": {
        "id": "u3EPZHrs5TEq",
        "colab": {
          "base_uri": "https://localhost:8080/"
        },
        "outputId": "4a1667fb-9b07-4bba-91c0-0bee85853ed9"
      },
      "source": [
        "a = 5\n",
        "b = 3.2\n",
        "print(type(b))\n",
        "a = '5'\n",
        "b = '3.2'\n",
        "print(a+b)\n",
        "print(type(a+b))"
      ],
      "execution_count": null,
      "outputs": [
        {
          "output_type": "stream",
          "text": [
            "<class 'float'>\n",
            "53.2\n",
            "<class 'str'>\n"
          ],
          "name": "stdout"
        }
      ]
    },
    {
      "cell_type": "code",
      "metadata": {
        "colab": {
          "base_uri": "https://localhost:8080/"
        },
        "id": "9FIpZ2zvNJjS",
        "outputId": "1e9c0dd3-233d-413d-9e5a-f4967a538bd5"
      },
      "source": [
        "#User Input\n",
        "name = input(\"Enter your name : \")\n",
        "print(\"Hello \",name)"
      ],
      "execution_count": null,
      "outputs": [
        {
          "output_type": "stream",
          "text": [
            "Enter your name : Sagar\n",
            "Hello  Sagar\n"
          ],
          "name": "stdout"
        }
      ]
    },
    {
      "cell_type": "code",
      "metadata": {
        "colab": {
          "base_uri": "https://localhost:8080/"
        },
        "id": "thSYZvnJOuuT",
        "outputId": "2d4a23e5-0f64-4893-815a-1c97f090b421"
      },
      "source": [
        "x = 3\n",
        "y = 5\n",
        "if x < y :\n",
        "  print(x,\"is less than\",y)\n",
        "elif x > y :\n",
        "  print(y,\"is less than\",x)\n",
        "else:\n",
        "  print(y,\"is equal to\",x)\n",
        "\n",
        "print('Done')"
      ],
      "execution_count": null,
      "outputs": [
        {
          "output_type": "stream",
          "text": [
            "3 is less than 5\n",
            "Done\n"
          ],
          "name": "stdout"
        }
      ]
    },
    {
      "cell_type": "code",
      "metadata": {
        "colab": {
          "base_uri": "https://localhost:8080/"
        },
        "id": "AdtZnEOZPV_q",
        "outputId": "849a192f-973e-461a-e31b-74880b0262f6"
      },
      "source": [
        "if x == y:\n",
        "  print(x,'is equal to',y)\n",
        "else:\n",
        "  if x < y:\n",
        "    print(x,'is less than',y)\n",
        "  else:\n",
        "    print(x,'is greater than',y)\n",
        "\n",
        "print('done')\n"
      ],
      "execution_count": null,
      "outputs": [
        {
          "output_type": "stream",
          "text": [
            "3 is less than 5\n",
            "done\n"
          ],
          "name": "stdout"
        }
      ]
    },
    {
      "cell_type": "code",
      "metadata": {
        "id": "7rd7e0JKQBdn"
      },
      "source": [
        "x=5;y=8\n",
        "if (x > 7 & y > 7):\n",
        "  print('x is positive and single digit number')"
      ],
      "execution_count": null,
      "outputs": []
    },
    {
      "cell_type": "code",
      "metadata": {
        "colab": {
          "base_uri": "https://localhost:8080/"
        },
        "id": "VreBBVTOT4zn",
        "outputId": "18f63fb9-2e77-4693-90c9-f3bf5eacd9ce"
      },
      "source": [
        "x=5;y=8\n",
        "if (x > 7 & y > 7) | (x !=y):\n",
        "  print('x is positive and single digit number')"
      ],
      "execution_count": null,
      "outputs": [
        {
          "output_type": "stream",
          "text": [
            "x is positive and single digit number\n"
          ],
          "name": "stdout"
        }
      ]
    },
    {
      "cell_type": "code",
      "metadata": {
        "colab": {
          "base_uri": "https://localhost:8080/"
        },
        "id": "JdOvepJOSmjj",
        "outputId": "6c708111-1338-4913-a08d-df4064bdfa7d"
      },
      "source": [
        "#User Defined Functions\n",
        "def square(a):\n",
        "  return a * a\n",
        "\n",
        "square(2)"
      ],
      "execution_count": null,
      "outputs": [
        {
          "output_type": "execute_result",
          "data": {
            "text/plain": [
              "4"
            ]
          },
          "metadata": {
            "tags": []
          },
          "execution_count": 20
        }
      ]
    },
    {
      "cell_type": "code",
      "metadata": {
        "colab": {
          "base_uri": "https://localhost:8080/"
        },
        "id": "ILVWcdvNSzm4",
        "outputId": "9e7d229b-f0f7-483d-f5c3-d0f4748d3d44"
      },
      "source": [
        "value = float(input(\"Enter a number\"))\n",
        "square(value)"
      ],
      "execution_count": null,
      "outputs": [
        {
          "output_type": "stream",
          "text": [
            "Enter a number2.5\n"
          ],
          "name": "stdout"
        },
        {
          "output_type": "execute_result",
          "data": {
            "text/plain": [
              "6.25"
            ]
          },
          "metadata": {
            "tags": []
          },
          "execution_count": 23
        }
      ]
    },
    {
      "cell_type": "code",
      "metadata": {
        "colab": {
          "base_uri": "https://localhost:8080/"
        },
        "id": "OUWU8eJRWvRt",
        "outputId": "37caa537-7c4a-49bc-cbb8-8aa8811fc49e"
      },
      "source": [
        "value = int(float(input(\"Enter a number\")))\n",
        "square(value)"
      ],
      "execution_count": null,
      "outputs": [
        {
          "output_type": "stream",
          "text": [
            "Enter a number12.5\n"
          ],
          "name": "stdout"
        },
        {
          "output_type": "execute_result",
          "data": {
            "text/plain": [
              "144"
            ]
          },
          "metadata": {
            "tags": []
          },
          "execution_count": 25
        }
      ]
    },
    {
      "cell_type": "code",
      "metadata": {
        "colab": {
          "base_uri": "https://localhost:8080/"
        },
        "id": "JEhbvR_oUj8l",
        "outputId": "50065a44-6867-4e3e-fe9b-29ae3d9a3002"
      },
      "source": [
        "def hi():\n",
        "  print('hello user')\n",
        "\n",
        "hi()"
      ],
      "execution_count": null,
      "outputs": [
        {
          "output_type": "stream",
          "text": [
            "hello user\n"
          ],
          "name": "stdout"
        }
      ]
    },
    {
      "cell_type": "code",
      "metadata": {
        "id": "0JE8C5xzVnkE"
      },
      "source": [
        "#Conditional loop - While\n",
        "#Iterative loop   - for\n"
      ],
      "execution_count": null,
      "outputs": []
    },
    {
      "cell_type": "code",
      "metadata": {
        "colab": {
          "base_uri": "https://localhost:8080/"
        },
        "id": "Ni3MRYJvXkCY",
        "outputId": "02ed3a7b-ed90-4885-97b7-af7be68ec269"
      },
      "source": [
        "count = 0\n",
        "while(count < 5):\n",
        "  print('count is :',count)\n",
        "  count+=1\n",
        "else:\n",
        "  print('count is reached :', count)\n"
      ],
      "execution_count": null,
      "outputs": [
        {
          "output_type": "stream",
          "text": [
            "count is : 0\n",
            "count is : 1\n",
            "count is : 2\n",
            "count is : 3\n",
            "count is : 4\n",
            "count is reached : 5\n"
          ],
          "name": "stdout"
        }
      ]
    },
    {
      "cell_type": "code",
      "metadata": {
        "colab": {
          "base_uri": "https://localhost:8080/"
        },
        "id": "jyDT1l4UYi2n",
        "outputId": "aa5761a1-05c8-42a8-b1fa-e166679b7287"
      },
      "source": [
        "count = 100\n",
        "while(count >= 70):\n",
        "  print('count is :',count)\n",
        "  count-=1\n",
        "else:\n",
        "  print('count is reached :', count)\n"
      ],
      "execution_count": null,
      "outputs": [
        {
          "output_type": "stream",
          "text": [
            "count is : 100\n",
            "count is : 99\n",
            "count is : 98\n",
            "count is : 97\n",
            "count is : 96\n",
            "count is : 95\n",
            "count is : 94\n",
            "count is : 93\n",
            "count is : 92\n",
            "count is : 91\n",
            "count is : 90\n",
            "count is : 89\n",
            "count is : 88\n",
            "count is : 87\n",
            "count is : 86\n",
            "count is : 85\n",
            "count is : 84\n",
            "count is : 83\n",
            "count is : 82\n",
            "count is : 81\n",
            "count is : 80\n",
            "count is : 79\n",
            "count is : 78\n",
            "count is : 77\n",
            "count is : 76\n",
            "count is : 75\n",
            "count is : 74\n",
            "count is : 73\n",
            "count is : 72\n",
            "count is : 71\n",
            "count is : 70\n",
            "count is reached : 69\n"
          ],
          "name": "stdout"
        }
      ]
    },
    {
      "cell_type": "code",
      "metadata": {
        "colab": {
          "base_uri": "https://localhost:8080/"
        },
        "id": "Lw5pqcfaXxiS",
        "outputId": "fe1768ec-43f0-45cb-b5a2-bd6d5e1cc496"
      },
      "source": [
        "friends = ['A','B','C','D',3.5]\n",
        "for f in friends:\n",
        "  print('Hello ',f)"
      ],
      "execution_count": null,
      "outputs": [
        {
          "output_type": "stream",
          "text": [
            "Hello  A\n",
            "Hello  B\n",
            "Hello  C\n",
            "Hello  D\n",
            "Hello  3.5\n"
          ],
          "name": "stdout"
        }
      ]
    },
    {
      "cell_type": "code",
      "metadata": {
        "id": "stVvbJokYFhY"
      },
      "source": [
        ""
      ],
      "execution_count": null,
      "outputs": []
    }
  ]
}