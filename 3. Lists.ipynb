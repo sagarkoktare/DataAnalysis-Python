{
 "cells": [
  {
   "cell_type": "markdown",
   "id": "b39328de",
   "metadata": {},
   "source": [
    "# Lists"
   ]
  },
  {
   "cell_type": "markdown",
   "id": "e34a3b8a",
   "metadata": {},
   "source": [
    "#### 1. Lists has mixed data types\n",
    "#### 2. Lists may have repetatitve elements\n",
    "#### 3. Preserves the order\n",
    "#### 4. Mutable"
   ]
  },
  {
   "cell_type": "code",
   "execution_count": 3,
   "id": "7e44e81b",
   "metadata": {},
   "outputs": [
    {
     "data": {
      "text/plain": [
       "7"
      ]
     },
     "execution_count": 3,
     "metadata": {},
     "output_type": "execute_result"
    }
   ],
   "source": [
    "List1 = [7,8,9,2]\n",
    "List1[0]"
   ]
  },
  {
   "cell_type": "code",
   "execution_count": 4,
   "id": "c8aa9e25",
   "metadata": {},
   "outputs": [
    {
     "data": {
      "text/plain": [
       "[7, 8, 9]"
      ]
     },
     "execution_count": 4,
     "metadata": {},
     "output_type": "execute_result"
    }
   ],
   "source": [
    "List1[0:3]"
   ]
  },
  {
   "cell_type": "code",
   "execution_count": 6,
   "id": "26849581",
   "metadata": {},
   "outputs": [
    {
     "data": {
      "text/plain": [
       "[7, 8]"
      ]
     },
     "execution_count": 6,
     "metadata": {},
     "output_type": "execute_result"
    }
   ],
   "source": [
    "List1[0:-2]"
   ]
  },
  {
   "cell_type": "code",
   "execution_count": 7,
   "id": "e65c153e",
   "metadata": {},
   "outputs": [],
   "source": [
    "List2 = [0,1,'s','a',2.5]"
   ]
  },
  {
   "cell_type": "code",
   "execution_count": 8,
   "id": "4c66cf27",
   "metadata": {},
   "outputs": [
    {
     "data": {
      "text/plain": [
       "0"
      ]
     },
     "execution_count": 8,
     "metadata": {},
     "output_type": "execute_result"
    }
   ],
   "source": [
    "List2[0]"
   ]
  },
  {
   "cell_type": "code",
   "execution_count": 10,
   "id": "f5320fdf",
   "metadata": {},
   "outputs": [
    {
     "data": {
      "text/plain": [
       "str"
      ]
     },
     "execution_count": 10,
     "metadata": {},
     "output_type": "execute_result"
    }
   ],
   "source": [
    "type(List2[3])"
   ]
  },
  {
   "cell_type": "code",
   "execution_count": 11,
   "id": "a9e9b24b",
   "metadata": {},
   "outputs": [
    {
     "data": {
      "text/plain": [
       "'a'"
      ]
     },
     "execution_count": 11,
     "metadata": {},
     "output_type": "execute_result"
    }
   ],
   "source": [
    "List2[3]"
   ]
  },
  {
   "cell_type": "code",
   "execution_count": 12,
   "id": "e57f95f8",
   "metadata": {},
   "outputs": [
    {
     "data": {
      "text/plain": [
       "[0, 1, 2, 3, 4, 5, 6, 7, 8, 9]"
      ]
     },
     "execution_count": 12,
     "metadata": {},
     "output_type": "execute_result"
    }
   ],
   "source": [
    "list(range(0,10))"
   ]
  },
  {
   "cell_type": "code",
   "execution_count": 13,
   "id": "a470c26d",
   "metadata": {},
   "outputs": [
    {
     "data": {
      "text/plain": [
       "[1, 3, 5, 7, 9]"
      ]
     },
     "execution_count": 13,
     "metadata": {},
     "output_type": "execute_result"
    }
   ],
   "source": [
    "list(range(1,10,2))"
   ]
  },
  {
   "cell_type": "code",
   "execution_count": 14,
   "id": "e06a58c7",
   "metadata": {},
   "outputs": [
    {
     "data": {
      "text/plain": [
       "list"
      ]
     },
     "execution_count": 14,
     "metadata": {},
     "output_type": "execute_result"
    }
   ],
   "source": [
    "type(List2)"
   ]
  },
  {
   "cell_type": "markdown",
   "id": "e29a909b",
   "metadata": {},
   "source": [
    "### Nested List"
   ]
  },
  {
   "cell_type": "code",
   "execution_count": 15,
   "id": "90aec232",
   "metadata": {},
   "outputs": [],
   "source": [
    "l1 = [1,2,3,[1,2,3],[3,4,5]]"
   ]
  },
  {
   "cell_type": "code",
   "execution_count": 16,
   "id": "e5b63a50",
   "metadata": {},
   "outputs": [
    {
     "data": {
      "text/plain": [
       "[1, 2, 3]"
      ]
     },
     "execution_count": 16,
     "metadata": {},
     "output_type": "execute_result"
    }
   ],
   "source": [
    "l1[3]"
   ]
  },
  {
   "cell_type": "code",
   "execution_count": 17,
   "id": "0ee37d73",
   "metadata": {},
   "outputs": [
    {
     "data": {
      "text/plain": [
       "2"
      ]
     },
     "execution_count": 17,
     "metadata": {},
     "output_type": "execute_result"
    }
   ],
   "source": [
    "l1[3][1]"
   ]
  },
  {
   "cell_type": "code",
   "execution_count": 18,
   "id": "6eb79c0a",
   "metadata": {},
   "outputs": [
    {
     "data": {
      "text/plain": [
       "1"
      ]
     },
     "execution_count": 18,
     "metadata": {},
     "output_type": "execute_result"
    }
   ],
   "source": [
    "l1[3][0]"
   ]
  },
  {
   "cell_type": "code",
   "execution_count": 19,
   "id": "20e322c0",
   "metadata": {},
   "outputs": [
    {
     "data": {
      "text/plain": [
       "5"
      ]
     },
     "execution_count": 19,
     "metadata": {},
     "output_type": "execute_result"
    }
   ],
   "source": [
    "l1[4][2]"
   ]
  },
  {
   "cell_type": "markdown",
   "id": "872b382c",
   "metadata": {},
   "source": [
    "### Lists are Mutable"
   ]
  },
  {
   "cell_type": "code",
   "execution_count": 20,
   "id": "1e6a4449",
   "metadata": {},
   "outputs": [],
   "source": [
    "l2 = [1,2,3,3.4,4.5]"
   ]
  },
  {
   "cell_type": "code",
   "execution_count": 21,
   "id": "5333499e",
   "metadata": {},
   "outputs": [],
   "source": [
    "l2[1]=2.5"
   ]
  },
  {
   "cell_type": "code",
   "execution_count": 22,
   "id": "22cd7fcc",
   "metadata": {},
   "outputs": [
    {
     "data": {
      "text/plain": [
       "[1, 2.5, 3, 3.4, 4.5]"
      ]
     },
     "execution_count": 22,
     "metadata": {},
     "output_type": "execute_result"
    }
   ],
   "source": [
    "l2"
   ]
  },
  {
   "cell_type": "markdown",
   "id": "5c7f5820",
   "metadata": {},
   "source": [
    "### Appending a list"
   ]
  },
  {
   "cell_type": "code",
   "execution_count": 23,
   "id": "c0837658",
   "metadata": {},
   "outputs": [],
   "source": [
    "list_new = [100,101,102,103,1004]"
   ]
  },
  {
   "cell_type": "code",
   "execution_count": 24,
   "id": "359039c8",
   "metadata": {},
   "outputs": [
    {
     "data": {
      "text/plain": [
       "[7, 8, 9, 2]"
      ]
     },
     "execution_count": 24,
     "metadata": {},
     "output_type": "execute_result"
    }
   ],
   "source": [
    "List1"
   ]
  },
  {
   "cell_type": "code",
   "execution_count": 25,
   "id": "91fb893a",
   "metadata": {},
   "outputs": [],
   "source": [
    "List1.append(list_new) #Append function - appends only one element or treats as a one element"
   ]
  },
  {
   "cell_type": "code",
   "execution_count": 26,
   "id": "2766adea",
   "metadata": {},
   "outputs": [
    {
     "data": {
      "text/plain": [
       "[7, 8, 9, 2, [100, 101, 102, 103, 1004]]"
      ]
     },
     "execution_count": 26,
     "metadata": {},
     "output_type": "execute_result"
    }
   ],
   "source": [
    "List1"
   ]
  },
  {
   "cell_type": "code",
   "execution_count": 27,
   "id": "90cacd66",
   "metadata": {},
   "outputs": [],
   "source": [
    "List1.extend(list_new) #extend function - multiple elements gets appended at the end of list"
   ]
  },
  {
   "cell_type": "code",
   "execution_count": 28,
   "id": "dbb9cc4e",
   "metadata": {},
   "outputs": [
    {
     "data": {
      "text/plain": [
       "[7, 8, 9, 2, [100, 101, 102, 103, 1004], 100, 101, 102, 103, 1004]"
      ]
     },
     "execution_count": 28,
     "metadata": {},
     "output_type": "execute_result"
    }
   ],
   "source": [
    "List1"
   ]
  },
  {
   "cell_type": "code",
   "execution_count": 29,
   "id": "d7e172f1",
   "metadata": {},
   "outputs": [],
   "source": [
    "List1.insert(0,3) #Insert function - inserts object at mentioned index"
   ]
  },
  {
   "cell_type": "code",
   "execution_count": 30,
   "id": "12ebb098",
   "metadata": {},
   "outputs": [
    {
     "data": {
      "text/plain": [
       "[3, 7, 8, 9, 2, [100, 101, 102, 103, 1004], 100, 101, 102, 103, 1004]"
      ]
     },
     "execution_count": 30,
     "metadata": {},
     "output_type": "execute_result"
    }
   ],
   "source": [
    "List1"
   ]
  },
  {
   "cell_type": "code",
   "execution_count": 32,
   "id": "74adf6c7",
   "metadata": {},
   "outputs": [],
   "source": [
    "List1.remove(100) #In bracket it's an element which you would like to remove"
   ]
  },
  {
   "cell_type": "code",
   "execution_count": 33,
   "id": "ab78a84d",
   "metadata": {},
   "outputs": [
    {
     "data": {
      "text/plain": [
       "[3, 7, 8, 9, 2, [100, 101, 102, 103, 1004], 101, 102, 103, 1004]"
      ]
     },
     "execution_count": 33,
     "metadata": {},
     "output_type": "execute_result"
    }
   ],
   "source": [
    "List1"
   ]
  },
  {
   "cell_type": "code",
   "execution_count": 34,
   "id": "8f43ffa4",
   "metadata": {},
   "outputs": [],
   "source": [
    "List1.remove(List1[5])"
   ]
  },
  {
   "cell_type": "code",
   "execution_count": 35,
   "id": "6df25967",
   "metadata": {},
   "outputs": [
    {
     "data": {
      "text/plain": [
       "[3, 7, 8, 9, 2, 101, 102, 103, 1004]"
      ]
     },
     "execution_count": 35,
     "metadata": {},
     "output_type": "execute_result"
    }
   ],
   "source": [
    "List1"
   ]
  },
  {
   "cell_type": "code",
   "execution_count": 36,
   "id": "ecaa3395",
   "metadata": {},
   "outputs": [],
   "source": [
    "del List1[0:2]"
   ]
  },
  {
   "cell_type": "code",
   "execution_count": 37,
   "id": "01c78ad6",
   "metadata": {},
   "outputs": [
    {
     "data": {
      "text/plain": [
       "[8, 9, 2, 101, 102, 103, 1004]"
      ]
     },
     "execution_count": 37,
     "metadata": {},
     "output_type": "execute_result"
    }
   ],
   "source": [
    "List1"
   ]
  },
  {
   "cell_type": "code",
   "execution_count": 44,
   "id": "db257d9b",
   "metadata": {},
   "outputs": [
    {
     "name": "stdout",
     "output_type": "stream",
     "text": [
      "[5, 10, 15, 20, 25]\n"
     ]
    }
   ],
   "source": [
    "L1 = [1,2,3,4,5]\n",
    "L2 = []\n",
    "for x in L1:\n",
    "    L2.append(x*5)\n",
    "\n",
    "print(L2)"
   ]
  },
  {
   "cell_type": "code",
   "execution_count": null,
   "id": "486ea3dd",
   "metadata": {},
   "outputs": [],
   "source": []
  }
 ],
 "metadata": {
  "kernelspec": {
   "display_name": "Python 3 (ipykernel)",
   "language": "python",
   "name": "python3"
  },
  "language_info": {
   "codemirror_mode": {
    "name": "ipython",
    "version": 3
   },
   "file_extension": ".py",
   "mimetype": "text/x-python",
   "name": "python",
   "nbconvert_exporter": "python",
   "pygments_lexer": "ipython3",
   "version": "3.9.13"
  }
 },
 "nbformat": 4,
 "nbformat_minor": 5
}
